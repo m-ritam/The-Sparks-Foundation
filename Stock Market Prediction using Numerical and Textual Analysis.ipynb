{
 "cells": [
  {
   "cell_type": "code",
   "execution_count": 1,
   "id": "2fa250a0",
   "metadata": {},
   "outputs": [],
   "source": [
    "# Import the libraries\n",
    "import os\n",
    "import pandas as pd\n",
    "import numpy as np\n",
    "import seaborn as sns\n",
    "import matplotlib.pyplot as plt\n",
    "\n",
    "import warnings\n",
    "warnings.filterwarnings('ignore')\n",
    "\n",
    "\n",
    "from statsmodels.tsa.arima_model import ARIMA\n",
    "from statsmodels.tsa.statespace.sarimax import SARIMAX\n",
    "\n",
    "import nltk\n",
    "import re\n",
    "from textblob import TextBlob\n",
    "from nltk.sentiment.vader import SentimentIntensityAnalyzer\n",
    "from sklearn.preprocessing import MinMaxScaler\n",
    "\n",
    "from sklearn.metrics import mean_squared_error\n",
    "from sklearn.model_selection import train_test_split\n",
    "from sklearn.ensemble import RandomForestRegressor, AdaBoostRegressor\n",
    "from sklearn.tree import DecisionTreeRegressor\n",
    "import xgboost\n",
    "import lightgbm"
   ]
  },
  {
   "cell_type": "code",
   "execution_count": 2,
   "id": "a2d95ba7",
   "metadata": {},
   "outputs": [],
   "source": [
    "path2 = r'C:\\Users\\ritam\\OneDrive\\Documents\\The sparks foundation files\\Stock market prediction\\india-news-headlines.csv'\n",
    "ndf = pd.read_csv(path2, header=None, names=['Date', 'Category', 'News'])"
   ]
  },
  {
   "cell_type": "code",
   "execution_count": 3,
   "id": "19aa8437",
   "metadata": {},
   "outputs": [
    {
     "data": {
      "text/html": [
       "<div>\n",
       "<style scoped>\n",
       "    .dataframe tbody tr th:only-of-type {\n",
       "        vertical-align: middle;\n",
       "    }\n",
       "\n",
       "    .dataframe tbody tr th {\n",
       "        vertical-align: top;\n",
       "    }\n",
       "\n",
       "    .dataframe thead th {\n",
       "        text-align: right;\n",
       "    }\n",
       "</style>\n",
       "<table border=\"1\" class=\"dataframe\">\n",
       "  <thead>\n",
       "    <tr style=\"text-align: right;\">\n",
       "      <th></th>\n",
       "      <th>Date</th>\n",
       "      <th>Category</th>\n",
       "      <th>News</th>\n",
       "    </tr>\n",
       "  </thead>\n",
       "  <tbody>\n",
       "    <tr>\n",
       "      <th>0</th>\n",
       "      <td>publish_date</td>\n",
       "      <td>headline_category</td>\n",
       "      <td>headline_text</td>\n",
       "    </tr>\n",
       "    <tr>\n",
       "      <th>1</th>\n",
       "      <td>20010102</td>\n",
       "      <td>unknown</td>\n",
       "      <td>Status quo will not be disturbed at Ayodhya; s...</td>\n",
       "    </tr>\n",
       "    <tr>\n",
       "      <th>2</th>\n",
       "      <td>20010102</td>\n",
       "      <td>unknown</td>\n",
       "      <td>Fissures in Hurriyat over Pak visit</td>\n",
       "    </tr>\n",
       "    <tr>\n",
       "      <th>3</th>\n",
       "      <td>20010102</td>\n",
       "      <td>unknown</td>\n",
       "      <td>America's unwanted heading for India?</td>\n",
       "    </tr>\n",
       "    <tr>\n",
       "      <th>4</th>\n",
       "      <td>20010102</td>\n",
       "      <td>unknown</td>\n",
       "      <td>For bigwigs; it is destination Goa</td>\n",
       "    </tr>\n",
       "  </tbody>\n",
       "</table>\n",
       "</div>"
      ],
      "text/plain": [
       "           Date           Category  \\\n",
       "0  publish_date  headline_category   \n",
       "1      20010102            unknown   \n",
       "2      20010102            unknown   \n",
       "3      20010102            unknown   \n",
       "4      20010102            unknown   \n",
       "\n",
       "                                                News  \n",
       "0                                      headline_text  \n",
       "1  Status quo will not be disturbed at Ayodhya; s...  \n",
       "2                Fissures in Hurriyat over Pak visit  \n",
       "3              America's unwanted heading for India?  \n",
       "4                 For bigwigs; it is destination Goa  "
      ]
     },
     "execution_count": 3,
     "metadata": {},
     "output_type": "execute_result"
    }
   ],
   "source": [
    "ndf.head(5)"
   ]
  },
  {
   "cell_type": "code",
   "execution_count": 4,
   "id": "271f227b",
   "metadata": {},
   "outputs": [
    {
     "name": "stdout",
     "output_type": "stream",
     "text": [
      "Showing part of the whole dataset:\n"
     ]
    },
    {
     "data": {
      "text/html": [
       "<div>\n",
       "<style scoped>\n",
       "    .dataframe tbody tr th:only-of-type {\n",
       "        vertical-align: middle;\n",
       "    }\n",
       "\n",
       "    .dataframe tbody tr th {\n",
       "        vertical-align: top;\n",
       "    }\n",
       "\n",
       "    .dataframe thead th {\n",
       "        text-align: right;\n",
       "    }\n",
       "</style>\n",
       "<table border=\"1\" class=\"dataframe\">\n",
       "  <thead>\n",
       "    <tr style=\"text-align: right;\">\n",
       "      <th></th>\n",
       "      <th>Date</th>\n",
       "      <th>News</th>\n",
       "    </tr>\n",
       "  </thead>\n",
       "  <tbody>\n",
       "    <tr>\n",
       "      <th>1</th>\n",
       "      <td>20010102</td>\n",
       "      <td>Status quo will not be disturbed at Ayodhya; s...</td>\n",
       "    </tr>\n",
       "    <tr>\n",
       "      <th>2</th>\n",
       "      <td>20010102</td>\n",
       "      <td>Fissures in Hurriyat over Pak visit</td>\n",
       "    </tr>\n",
       "    <tr>\n",
       "      <th>3</th>\n",
       "      <td>20010102</td>\n",
       "      <td>America's unwanted heading for India?</td>\n",
       "    </tr>\n",
       "    <tr>\n",
       "      <th>4</th>\n",
       "      <td>20010102</td>\n",
       "      <td>For bigwigs; it is destination Goa</td>\n",
       "    </tr>\n",
       "    <tr>\n",
       "      <th>5</th>\n",
       "      <td>20010102</td>\n",
       "      <td>Extra buses to clear tourist traffic</td>\n",
       "    </tr>\n",
       "    <tr>\n",
       "      <th>...</th>\n",
       "      <td>...</td>\n",
       "      <td>...</td>\n",
       "    </tr>\n",
       "    <tr>\n",
       "      <th>3650961</th>\n",
       "      <td>20220331</td>\n",
       "      <td>Garment industry jittery over'GST hike'</td>\n",
       "    </tr>\n",
       "    <tr>\n",
       "      <th>3650962</th>\n",
       "      <td>20220331</td>\n",
       "      <td>AAP MLAs interfering in work: Councillors</td>\n",
       "    </tr>\n",
       "    <tr>\n",
       "      <th>3650963</th>\n",
       "      <td>20220331</td>\n",
       "      <td>Schools organise vax camps for kids</td>\n",
       "    </tr>\n",
       "    <tr>\n",
       "      <th>3650964</th>\n",
       "      <td>20220331</td>\n",
       "      <td>Madhya Pradesh CM Shivraj Singh Chouhan promis...</td>\n",
       "    </tr>\n",
       "    <tr>\n",
       "      <th>3650965</th>\n",
       "      <td>20220331</td>\n",
       "      <td>bhopal endures first heatwave max temp crosses...</td>\n",
       "    </tr>\n",
       "  </tbody>\n",
       "</table>\n",
       "<p>3650965 rows × 2 columns</p>\n",
       "</div>"
      ],
      "text/plain": [
       "             Date                                               News\n",
       "1        20010102  Status quo will not be disturbed at Ayodhya; s...\n",
       "2        20010102                Fissures in Hurriyat over Pak visit\n",
       "3        20010102              America's unwanted heading for India?\n",
       "4        20010102                 For bigwigs; it is destination Goa\n",
       "5        20010102               Extra buses to clear tourist traffic\n",
       "...           ...                                                ...\n",
       "3650961  20220331            Garment industry jittery over'GST hike'\n",
       "3650962  20220331          AAP MLAs interfering in work: Councillors\n",
       "3650963  20220331                Schools organise vax camps for kids\n",
       "3650964  20220331  Madhya Pradesh CM Shivraj Singh Chouhan promis...\n",
       "3650965  20220331  bhopal endures first heatwave max temp crosses...\n",
       "\n",
       "[3650965 rows x 2 columns]"
      ]
     },
     "execution_count": 4,
     "metadata": {},
     "output_type": "execute_result"
    }
   ],
   "source": [
    "ndf.drop(0, inplace=True)\n",
    "ndf.drop('Category', axis = 1, inplace=True)\n",
    "print('Showing part of the whole dataset:')\n",
    "ndf.head(-5)"
   ]
  },
  {
   "cell_type": "code",
   "execution_count": 6,
   "id": "cc54ffcd",
   "metadata": {},
   "outputs": [
    {
     "data": {
      "text/html": [
       "<div>\n",
       "<style scoped>\n",
       "    .dataframe tbody tr th:only-of-type {\n",
       "        vertical-align: middle;\n",
       "    }\n",
       "\n",
       "    .dataframe tbody tr th {\n",
       "        vertical-align: top;\n",
       "    }\n",
       "\n",
       "    .dataframe thead th {\n",
       "        text-align: right;\n",
       "    }\n",
       "</style>\n",
       "<table border=\"1\" class=\"dataframe\">\n",
       "  <thead>\n",
       "    <tr style=\"text-align: right;\">\n",
       "      <th></th>\n",
       "      <th>Date</th>\n",
       "      <th>Open</th>\n",
       "      <th>High</th>\n",
       "      <th>Low</th>\n",
       "      <th>Close</th>\n",
       "      <th>Volume</th>\n",
       "      <th>Adj Close</th>\n",
       "    </tr>\n",
       "  </thead>\n",
       "  <tbody>\n",
       "    <tr>\n",
       "      <th>0</th>\n",
       "      <td>19-09-2022</td>\n",
       "      <td>17540.65039</td>\n",
       "      <td>17667.19922</td>\n",
       "      <td>17429.69922</td>\n",
       "      <td>17622.25000</td>\n",
       "      <td>258300</td>\n",
       "      <td>17622.25000</td>\n",
       "    </tr>\n",
       "    <tr>\n",
       "      <th>1</th>\n",
       "      <td>20-09-2022</td>\n",
       "      <td>17770.40039</td>\n",
       "      <td>17919.30078</td>\n",
       "      <td>17744.40039</td>\n",
       "      <td>17816.25000</td>\n",
       "      <td>263100</td>\n",
       "      <td>17816.25000</td>\n",
       "    </tr>\n",
       "    <tr>\n",
       "      <th>2</th>\n",
       "      <td>21-09-2022</td>\n",
       "      <td>17766.34961</td>\n",
       "      <td>17838.69922</td>\n",
       "      <td>17663.59961</td>\n",
       "      <td>17718.34961</td>\n",
       "      <td>245500</td>\n",
       "      <td>17718.34961</td>\n",
       "    </tr>\n",
       "    <tr>\n",
       "      <th>3</th>\n",
       "      <td>22-09-2022</td>\n",
       "      <td>17609.65039</td>\n",
       "      <td>17722.75000</td>\n",
       "      <td>17532.44922</td>\n",
       "      <td>17629.80078</td>\n",
       "      <td>284100</td>\n",
       "      <td>17629.80078</td>\n",
       "    </tr>\n",
       "    <tr>\n",
       "      <th>4</th>\n",
       "      <td>23-09-2022</td>\n",
       "      <td>17593.84961</td>\n",
       "      <td>17642.15039</td>\n",
       "      <td>17291.65039</td>\n",
       "      <td>17327.34961</td>\n",
       "      <td>390800</td>\n",
       "      <td>17327.34961</td>\n",
       "    </tr>\n",
       "    <tr>\n",
       "      <th>...</th>\n",
       "      <td>...</td>\n",
       "      <td>...</td>\n",
       "      <td>...</td>\n",
       "      <td>...</td>\n",
       "      <td>...</td>\n",
       "      <td>...</td>\n",
       "      <td>...</td>\n",
       "    </tr>\n",
       "    <tr>\n",
       "      <th>239</th>\n",
       "      <td>05-09-2023</td>\n",
       "      <td>19564.65039</td>\n",
       "      <td>19587.05078</td>\n",
       "      <td>19525.75000</td>\n",
       "      <td>19574.90039</td>\n",
       "      <td>256800</td>\n",
       "      <td>19574.90039</td>\n",
       "    </tr>\n",
       "    <tr>\n",
       "      <th>240</th>\n",
       "      <td>06-09-2023</td>\n",
       "      <td>19581.19922</td>\n",
       "      <td>19636.44922</td>\n",
       "      <td>19491.50000</td>\n",
       "      <td>19611.05078</td>\n",
       "      <td>287600</td>\n",
       "      <td>19611.05078</td>\n",
       "    </tr>\n",
       "    <tr>\n",
       "      <th>241</th>\n",
       "      <td>07-09-2023</td>\n",
       "      <td>19598.65039</td>\n",
       "      <td>19737.00000</td>\n",
       "      <td>19550.05078</td>\n",
       "      <td>19727.05078</td>\n",
       "      <td>304900</td>\n",
       "      <td>19727.05078</td>\n",
       "    </tr>\n",
       "    <tr>\n",
       "      <th>242</th>\n",
       "      <td>08-09-2023</td>\n",
       "      <td>19774.80078</td>\n",
       "      <td>19867.15039</td>\n",
       "      <td>19727.05078</td>\n",
       "      <td>19819.94922</td>\n",
       "      <td>288100</td>\n",
       "      <td>19819.94922</td>\n",
       "    </tr>\n",
       "    <tr>\n",
       "      <th>243</th>\n",
       "      <td>11-09-2023</td>\n",
       "      <td>19890.00000</td>\n",
       "      <td>20008.15039</td>\n",
       "      <td>19865.34961</td>\n",
       "      <td>19996.34961</td>\n",
       "      <td>248800</td>\n",
       "      <td>19996.34961</td>\n",
       "    </tr>\n",
       "  </tbody>\n",
       "</table>\n",
       "<p>244 rows × 7 columns</p>\n",
       "</div>"
      ],
      "text/plain": [
       "           Date         Open         High          Low        Close  Volume  \\\n",
       "0    19-09-2022  17540.65039  17667.19922  17429.69922  17622.25000  258300   \n",
       "1    20-09-2022  17770.40039  17919.30078  17744.40039  17816.25000  263100   \n",
       "2    21-09-2022  17766.34961  17838.69922  17663.59961  17718.34961  245500   \n",
       "3    22-09-2022  17609.65039  17722.75000  17532.44922  17629.80078  284100   \n",
       "4    23-09-2022  17593.84961  17642.15039  17291.65039  17327.34961  390800   \n",
       "..          ...          ...          ...          ...          ...     ...   \n",
       "239  05-09-2023  19564.65039  19587.05078  19525.75000  19574.90039  256800   \n",
       "240  06-09-2023  19581.19922  19636.44922  19491.50000  19611.05078  287600   \n",
       "241  07-09-2023  19598.65039  19737.00000  19550.05078  19727.05078  304900   \n",
       "242  08-09-2023  19774.80078  19867.15039  19727.05078  19819.94922  288100   \n",
       "243  11-09-2023  19890.00000  20008.15039  19865.34961  19996.34961  248800   \n",
       "\n",
       "       Adj Close  \n",
       "0    17622.25000  \n",
       "1    17816.25000  \n",
       "2    17718.34961  \n",
       "3    17629.80078  \n",
       "4    17327.34961  \n",
       "..           ...  \n",
       "239  19574.90039  \n",
       "240  19611.05078  \n",
       "241  19727.05078  \n",
       "242  19819.94922  \n",
       "243  19996.34961  \n",
       "\n",
       "[244 rows x 7 columns]"
      ]
     },
     "execution_count": 6,
     "metadata": {},
     "output_type": "execute_result"
    }
   ],
   "source": [
    "path1 = r'C:\\Users\\ritam\\OneDrive\\Documents\\The sparks foundation files\\Stock market prediction\\Nifty50-19sep22-18sep23.csv'\n",
    "\n",
    "# Load the second dataset\n",
    "hisdf =pd.read_csv(path1)\n",
    "hisdf.head(-5)"
   ]
  },
  {
   "cell_type": "code",
   "execution_count": 7,
   "id": "10f119c5",
   "metadata": {},
   "outputs": [
    {
     "name": "stdout",
     "output_type": "stream",
     "text": [
      "<class 'pandas.core.frame.DataFrame'>\n",
      "RangeIndex: 3650970 entries, 1 to 3650970\n",
      "Data columns (total 2 columns):\n",
      " #   Column  Dtype         \n",
      "---  ------  -----         \n",
      " 0   Date    datetime64[ns]\n",
      " 1   News    object        \n",
      "dtypes: datetime64[ns](1), object(1)\n",
      "memory usage: 55.7+ MB\n"
     ]
    }
   ],
   "source": [
    "# Check for common information of the first datast\n",
    "ndf[\"Date\"] = pd.to_datetime(ndf[\"Date\"],format='%Y%m%d')\n",
    "ndf.info()"
   ]
  },
  {
   "cell_type": "code",
   "execution_count": 9,
   "id": "5a8d3901",
   "metadata": {},
   "outputs": [],
   "source": [
    "# Group the headlines for each day\n",
    "ndf['News'] = ndf.groupby(['Date']).transform(lambda x : ' '.join(x))\n",
    "ndf = ndf.drop_duplicates()\n",
    "ndf.reset_index(inplace=True,drop=True)"
   ]
  },
  {
   "cell_type": "code",
   "execution_count": 11,
   "id": "05f7151e",
   "metadata": {},
   "outputs": [
    {
     "data": {
      "text/plain": [
       "Date    0\n",
       "News    0\n",
       "dtype: int64"
      ]
     },
     "execution_count": 11,
     "metadata": {},
     "output_type": "execute_result"
    }
   ],
   "source": [
    "# Check for any duplicated values\n",
    "ndf.isnull().sum()"
   ]
  },
  {
   "cell_type": "code",
   "execution_count": 13,
   "id": "cb8da318",
   "metadata": {},
   "outputs": [
    {
     "data": {
      "text/plain": [
       "7717"
      ]
     },
     "execution_count": 13,
     "metadata": {},
     "output_type": "execute_result"
    }
   ],
   "source": [
    "len(ndf)"
   ]
  },
  {
   "cell_type": "code",
   "execution_count": 14,
   "id": "7953b2f8",
   "metadata": {},
   "outputs": [
    {
     "data": {
      "text/html": [
       "<div>\n",
       "<style scoped>\n",
       "    .dataframe tbody tr th:only-of-type {\n",
       "        vertical-align: middle;\n",
       "    }\n",
       "\n",
       "    .dataframe tbody tr th {\n",
       "        vertical-align: top;\n",
       "    }\n",
       "\n",
       "    .dataframe thead th {\n",
       "        text-align: right;\n",
       "    }\n",
       "</style>\n",
       "<table border=\"1\" class=\"dataframe\">\n",
       "  <thead>\n",
       "    <tr style=\"text-align: right;\">\n",
       "      <th></th>\n",
       "      <th>Date</th>\n",
       "      <th>Open</th>\n",
       "      <th>High</th>\n",
       "      <th>Low</th>\n",
       "      <th>Close</th>\n",
       "      <th>Volume</th>\n",
       "    </tr>\n",
       "  </thead>\n",
       "  <tbody>\n",
       "    <tr>\n",
       "      <th>0</th>\n",
       "      <td>19-09-2022</td>\n",
       "      <td>17540.65039</td>\n",
       "      <td>17667.19922</td>\n",
       "      <td>17429.69922</td>\n",
       "      <td>17622.25000</td>\n",
       "      <td>258300</td>\n",
       "    </tr>\n",
       "    <tr>\n",
       "      <th>1</th>\n",
       "      <td>20-09-2022</td>\n",
       "      <td>17770.40039</td>\n",
       "      <td>17919.30078</td>\n",
       "      <td>17744.40039</td>\n",
       "      <td>17816.25000</td>\n",
       "      <td>263100</td>\n",
       "    </tr>\n",
       "    <tr>\n",
       "      <th>2</th>\n",
       "      <td>21-09-2022</td>\n",
       "      <td>17766.34961</td>\n",
       "      <td>17838.69922</td>\n",
       "      <td>17663.59961</td>\n",
       "      <td>17718.34961</td>\n",
       "      <td>245500</td>\n",
       "    </tr>\n",
       "    <tr>\n",
       "      <th>3</th>\n",
       "      <td>22-09-2022</td>\n",
       "      <td>17609.65039</td>\n",
       "      <td>17722.75000</td>\n",
       "      <td>17532.44922</td>\n",
       "      <td>17629.80078</td>\n",
       "      <td>284100</td>\n",
       "    </tr>\n",
       "    <tr>\n",
       "      <th>4</th>\n",
       "      <td>23-09-2022</td>\n",
       "      <td>17593.84961</td>\n",
       "      <td>17642.15039</td>\n",
       "      <td>17291.65039</td>\n",
       "      <td>17327.34961</td>\n",
       "      <td>390800</td>\n",
       "    </tr>\n",
       "    <tr>\n",
       "      <th>...</th>\n",
       "      <td>...</td>\n",
       "      <td>...</td>\n",
       "      <td>...</td>\n",
       "      <td>...</td>\n",
       "      <td>...</td>\n",
       "      <td>...</td>\n",
       "    </tr>\n",
       "    <tr>\n",
       "      <th>239</th>\n",
       "      <td>05-09-2023</td>\n",
       "      <td>19564.65039</td>\n",
       "      <td>19587.05078</td>\n",
       "      <td>19525.75000</td>\n",
       "      <td>19574.90039</td>\n",
       "      <td>256800</td>\n",
       "    </tr>\n",
       "    <tr>\n",
       "      <th>240</th>\n",
       "      <td>06-09-2023</td>\n",
       "      <td>19581.19922</td>\n",
       "      <td>19636.44922</td>\n",
       "      <td>19491.50000</td>\n",
       "      <td>19611.05078</td>\n",
       "      <td>287600</td>\n",
       "    </tr>\n",
       "    <tr>\n",
       "      <th>241</th>\n",
       "      <td>07-09-2023</td>\n",
       "      <td>19598.65039</td>\n",
       "      <td>19737.00000</td>\n",
       "      <td>19550.05078</td>\n",
       "      <td>19727.05078</td>\n",
       "      <td>304900</td>\n",
       "    </tr>\n",
       "    <tr>\n",
       "      <th>242</th>\n",
       "      <td>08-09-2023</td>\n",
       "      <td>19774.80078</td>\n",
       "      <td>19867.15039</td>\n",
       "      <td>19727.05078</td>\n",
       "      <td>19819.94922</td>\n",
       "      <td>288100</td>\n",
       "    </tr>\n",
       "    <tr>\n",
       "      <th>243</th>\n",
       "      <td>11-09-2023</td>\n",
       "      <td>19890.00000</td>\n",
       "      <td>20008.15039</td>\n",
       "      <td>19865.34961</td>\n",
       "      <td>19996.34961</td>\n",
       "      <td>248800</td>\n",
       "    </tr>\n",
       "  </tbody>\n",
       "</table>\n",
       "<p>244 rows × 6 columns</p>\n",
       "</div>"
      ],
      "text/plain": [
       "           Date         Open         High          Low        Close  Volume\n",
       "0    19-09-2022  17540.65039  17667.19922  17429.69922  17622.25000  258300\n",
       "1    20-09-2022  17770.40039  17919.30078  17744.40039  17816.25000  263100\n",
       "2    21-09-2022  17766.34961  17838.69922  17663.59961  17718.34961  245500\n",
       "3    22-09-2022  17609.65039  17722.75000  17532.44922  17629.80078  284100\n",
       "4    23-09-2022  17593.84961  17642.15039  17291.65039  17327.34961  390800\n",
       "..          ...          ...          ...          ...          ...     ...\n",
       "239  05-09-2023  19564.65039  19587.05078  19525.75000  19574.90039  256800\n",
       "240  06-09-2023  19581.19922  19636.44922  19491.50000  19611.05078  287600\n",
       "241  07-09-2023  19598.65039  19737.00000  19550.05078  19727.05078  304900\n",
       "242  08-09-2023  19774.80078  19867.15039  19727.05078  19819.94922  288100\n",
       "243  11-09-2023  19890.00000  20008.15039  19865.34961  19996.34961  248800\n",
       "\n",
       "[244 rows x 6 columns]"
      ]
     },
     "execution_count": 14,
     "metadata": {},
     "output_type": "execute_result"
    }
   ],
   "source": [
    "hisdf=hisdf[[\"Date\",\"Open\",\"High\",\"Low\",\"Close\",\"Volume\"]]\n",
    "hisdf.head(-5)"
   ]
  },
  {
   "cell_type": "code",
   "execution_count": 15,
   "id": "012a10e1",
   "metadata": {},
   "outputs": [
    {
     "name": "stdout",
     "output_type": "stream",
     "text": [
      "<class 'pandas.core.frame.DataFrame'>\n",
      "RangeIndex: 249 entries, 0 to 248\n",
      "Data columns (total 6 columns):\n",
      " #   Column  Non-Null Count  Dtype         \n",
      "---  ------  --------------  -----         \n",
      " 0   Date    249 non-null    datetime64[ns]\n",
      " 1   Open    249 non-null    float64       \n",
      " 2   High    249 non-null    float64       \n",
      " 3   Low     249 non-null    float64       \n",
      " 4   Close   249 non-null    float64       \n",
      " 5   Volume  249 non-null    int64         \n",
      "dtypes: datetime64[ns](1), float64(4), int64(1)\n",
      "memory usage: 11.8 KB\n"
     ]
    }
   ],
   "source": [
    "# Check for common information of the second dataset\n",
    "hisdf[\"Date\"]= pd.to_datetime(hisdf[\"Date\"])\n",
    "hisdf.info()"
   ]
  },
  {
   "cell_type": "code",
   "execution_count": 16,
   "id": "997e9614",
   "metadata": {},
   "outputs": [
    {
     "data": {
      "text/html": [
       "<div>\n",
       "<style scoped>\n",
       "    .dataframe tbody tr th:only-of-type {\n",
       "        vertical-align: middle;\n",
       "    }\n",
       "\n",
       "    .dataframe tbody tr th {\n",
       "        vertical-align: top;\n",
       "    }\n",
       "\n",
       "    .dataframe thead th {\n",
       "        text-align: right;\n",
       "    }\n",
       "</style>\n",
       "<table border=\"1\" class=\"dataframe\">\n",
       "  <thead>\n",
       "    <tr style=\"text-align: right;\">\n",
       "      <th></th>\n",
       "      <th>Open</th>\n",
       "      <th>High</th>\n",
       "      <th>Low</th>\n",
       "      <th>Close</th>\n",
       "      <th>Volume</th>\n",
       "    </tr>\n",
       "  </thead>\n",
       "  <tbody>\n",
       "    <tr>\n",
       "      <th>count</th>\n",
       "      <td>249.000000</td>\n",
       "      <td>249.000000</td>\n",
       "      <td>249.000000</td>\n",
       "      <td>249.000000</td>\n",
       "      <td>249.000000</td>\n",
       "    </tr>\n",
       "    <tr>\n",
       "      <th>mean</th>\n",
       "      <td>18327.734155</td>\n",
       "      <td>18393.458373</td>\n",
       "      <td>18233.147151</td>\n",
       "      <td>18316.258691</td>\n",
       "      <td>262222.489960</td>\n",
       "    </tr>\n",
       "    <tr>\n",
       "      <th>std</th>\n",
       "      <td>822.954687</td>\n",
       "      <td>815.664728</td>\n",
       "      <td>835.739009</td>\n",
       "      <td>831.165004</td>\n",
       "      <td>75761.676255</td>\n",
       "    </tr>\n",
       "    <tr>\n",
       "      <th>min</th>\n",
       "      <td>16798.050780</td>\n",
       "      <td>17026.050780</td>\n",
       "      <td>16747.699220</td>\n",
       "      <td>16818.099610</td>\n",
       "      <td>0.000000</td>\n",
       "    </tr>\n",
       "    <tr>\n",
       "      <th>25%</th>\n",
       "      <td>17756.400390</td>\n",
       "      <td>17799.949220</td>\n",
       "      <td>17612.500000</td>\n",
       "      <td>17718.349610</td>\n",
       "      <td>222500.000000</td>\n",
       "    </tr>\n",
       "    <tr>\n",
       "      <th>50%</th>\n",
       "      <td>18201.099610</td>\n",
       "      <td>18262.300780</td>\n",
       "      <td>18100.300780</td>\n",
       "      <td>18191.000000</td>\n",
       "      <td>252700.000000</td>\n",
       "    </tr>\n",
       "    <tr>\n",
       "      <th>75%</th>\n",
       "      <td>18752.400390</td>\n",
       "      <td>18839.699220</td>\n",
       "      <td>18710.500000</td>\n",
       "      <td>18771.250000</td>\n",
       "      <td>283300.000000</td>\n",
       "    </tr>\n",
       "    <tr>\n",
       "      <th>max</th>\n",
       "      <td>20156.449220</td>\n",
       "      <td>20222.449220</td>\n",
       "      <td>20129.699220</td>\n",
       "      <td>20192.349610</td>\n",
       "      <td>696500.000000</td>\n",
       "    </tr>\n",
       "  </tbody>\n",
       "</table>\n",
       "</div>"
      ],
      "text/plain": [
       "               Open          High           Low         Close         Volume\n",
       "count    249.000000    249.000000    249.000000    249.000000     249.000000\n",
       "mean   18327.734155  18393.458373  18233.147151  18316.258691  262222.489960\n",
       "std      822.954687    815.664728    835.739009    831.165004   75761.676255\n",
       "min    16798.050780  17026.050780  16747.699220  16818.099610       0.000000\n",
       "25%    17756.400390  17799.949220  17612.500000  17718.349610  222500.000000\n",
       "50%    18201.099610  18262.300780  18100.300780  18191.000000  252700.000000\n",
       "75%    18752.400390  18839.699220  18710.500000  18771.250000  283300.000000\n",
       "max    20156.449220  20222.449220  20129.699220  20192.349610  696500.000000"
      ]
     },
     "execution_count": 16,
     "metadata": {},
     "output_type": "execute_result"
    }
   ],
   "source": [
    "hisdf.describe()"
   ]
  },
  {
   "cell_type": "code",
   "execution_count": 17,
   "id": "5dd127be",
   "metadata": {},
   "outputs": [
    {
     "data": {
      "text/plain": [
       "Date      0\n",
       "Open      0\n",
       "High      0\n",
       "Low       0\n",
       "Close     0\n",
       "Volume    0\n",
       "dtype: int64"
      ]
     },
     "execution_count": 17,
     "metadata": {},
     "output_type": "execute_result"
    }
   ],
   "source": [
    "# Check for duplicated values\n",
    "hisdf.isnull().sum()"
   ]
  },
  {
   "cell_type": "code",
   "execution_count": 18,
   "id": "948cf5af",
   "metadata": {},
   "outputs": [
    {
     "data": {
      "text/plain": [
       "249"
      ]
     },
     "execution_count": 18,
     "metadata": {},
     "output_type": "execute_result"
    }
   ],
   "source": [
    "len(hisdf)"
   ]
  },
  {
   "cell_type": "code",
   "execution_count": 19,
   "id": "334058f7",
   "metadata": {},
   "outputs": [
    {
     "data": {
      "text/plain": [
       "Text(0, 0.5, 'Nifty 50')"
      ]
     },
     "execution_count": 19,
     "metadata": {},
     "output_type": "execute_result"
    },
    {
     "data": {
      "image/png": "[encoded data removed]",
      "text/plain": [
       "<Figure size 1000x500 with 1 Axes>"
      ]
     },
     "metadata": {},
     "output_type": "display_data"
    }
   ],
   "source": [
    "# Figure plot\n",
    "plt.figure(figsize=(10,5))\n",
    "hisdf['Close'].plot()\n",
    "plt.ylabel('Nifty 50')"
   ]
  },
  {
   "cell_type": "code",
   "execution_count": 20,
   "id": "a9961fad",
   "metadata": {},
   "outputs": [
    {
     "data": {
      "text/plain": [
       "0    Status quo will not be disturbed at Ayodhya  s...\n",
       "1    Powerless north India gropes in the dark Think...\n",
       "2    The string that pulled Stephen Hawking to Indi...\n",
       "3    Light combat craft takes India into club class...\n",
       "4    Light combat craft takes India into club class...\n",
       "Name: News, dtype: object"
      ]
     },
     "execution_count": 20,
     "metadata": {},
     "output_type": "execute_result"
    }
   ],
   "source": [
    "#removing unwanted characters from the News\n",
    "ndf.replace(\"[^a-zA-Z']\",\" \",regex=True,inplace=True)\n",
    "ndf[\"News\"].head(5)"
   ]
  },
  {
   "cell_type": "markdown",
   "id": "a4b87340",
   "metadata": {},
   "source": [
    "## Historical Analysis"
   ]
  },
  {
   "cell_type": "code",
   "execution_count": 21,
   "id": "a9adb99f",
   "metadata": {},
   "outputs": [
    {
     "data": {
      "text/plain": [
       "<matplotlib.legend.Legend at 0x28bb0855640>"
      ]
     },
     "execution_count": 21,
     "metadata": {},
     "output_type": "execute_result"
    },
    {
     "data": {
      "image/png": "[encoded data removed]",
      "text/plain": [
       "<Figure size 1000x500 with 1 Axes>"
      ]
     },
     "metadata": {},
     "output_type": "display_data"
    }
   ],
   "source": [
    "#Plotting moving average\n",
    "close = hisdf['Close']\n",
    "\n",
    "ma = close.rolling(window = 30).mean()\n",
    "std = close.rolling(window = 30).std()\n",
    "\n",
    "plt.figure(figsize=(10,5))\n",
    "hisdf['Close'].plot(color='g',label='Close')\n",
    "ma.plot(color = 'r',label='Rolling Mean')\n",
    "std.plot(label = 'Rolling Standard Deviation')\n",
    "\n",
    "plt.legend()"
   ]
  },
  {
   "cell_type": "markdown",
   "id": "6e76df59",
   "metadata": {},
   "source": [
    "## Plotting returns"
   ]
  },
  {
   "cell_type": "code",
   "execution_count": 22,
   "id": "14e1a6a1",
   "metadata": {},
   "outputs": [
    {
     "data": {
      "text/plain": [
       "Text(0.5, 1.0, 'Returns')"
      ]
     },
     "execution_count": 22,
     "metadata": {},
     "output_type": "execute_result"
    },
    {
     "data": {
      "image/png": "[encoded data removed]",
      "text/plain": [
       "<Figure size 1000x500 with 1 Axes>"
      ]
     },
     "metadata": {},
     "output_type": "display_data"
    }
   ],
   "source": [
    "returns = close / close.shift(1) - 1\n",
    "\n",
    "plt.figure(figsize = (10,5))\n",
    "returns.plot(label='Return', color = 'g')\n",
    "plt.title(\"Returns\")"
   ]
  },
  {
   "cell_type": "code",
   "execution_count": 23,
   "id": "dbc46a34",
   "metadata": {},
   "outputs": [],
   "source": [
    "# Train test split\n",
    "train = hisdf[:234]\n",
    "test = hisdf[234:]"
   ]
  },
  {
   "cell_type": "markdown",
   "id": "bd6c6677",
   "metadata": {},
   "source": [
    "# Rolling mean and Standard Deviation"
   ]
  },
  {
   "cell_type": "code",
   "execution_count": 24,
   "id": "71a5294b",
   "metadata": {},
   "outputs": [
    {
     "data": {
      "image/png": "[encoded data removed]",
      "text/plain": [
       "<Figure size 1000x500 with 1 Axes>"
      ]
     },
     "metadata": {},
     "output_type": "display_data"
    },
    {
     "name": "stdout",
     "output_type": "stream",
     "text": [
      "Results of dickey fuller test\n",
      "ADF Test Statistic : -0.9208747098142062\n",
      "p-value : 0.7810203745192832\n",
      "#Lags Used : 0\n",
      "Number of Observations Used : 233\n",
      "Weak evidence against null hypothesis, time series is non-stationary \n"
     ]
    }
   ],
   "source": [
    "from statsmodels.tsa.stattools import adfuller\n",
    "\n",
    "#Stationarity test\n",
    "def test_stationarity(timeseries):\n",
    "\n",
    " #Determine the rolling statistics\n",
    " rolmean = timeseries.rolling(20).mean()\n",
    " rolstd = timeseries.rolling(20).std()\n",
    "\n",
    " #Plot rolling statistics:\n",
    " plt.figure(figsize = (10,5))\n",
    " plt.plot(timeseries, color = 'blue', label = 'original')\n",
    " plt.plot(rolmean, color = 'r', label = 'rolling mean')\n",
    " plt.plot(rolstd, color = 'black', label = 'rolling std')\n",
    " plt.xlabel('Date')\n",
    " plt.legend()\n",
    " plt.title('Rolling Mean and Standard Deviation',  fontsize = 30)\n",
    " plt.show(block = False)\n",
    "\n",
    " print('Results of dickey fuller test')\n",
    " result = adfuller(timeseries, autolag = 'AIC')\n",
    " labels = ['ADF Test Statistic','p-value','#Lags Used','Number of Observations Used']\n",
    " for value,label in zip(result, labels):\n",
    "   print(label+' : '+str(value) )\n",
    " if result[1] <= 0.05:\n",
    "   print(\"Strong evidence against the null hypothesis(Ho), reject the null hypothesis. Data is stationary\")\n",
    " else:\n",
    "   print(\"Weak evidence against null hypothesis, time series is non-stationary \")\n",
    "test_stationarity(train['Close'])"
   ]
  },
  {
   "cell_type": "code",
   "execution_count": 25,
   "id": "01472cdc",
   "metadata": {},
   "outputs": [
    {
     "data": {
      "text/plain": [
       "[<matplotlib.lines.Line2D at 0x28bb0992cd0>]"
      ]
     },
     "execution_count": 25,
     "metadata": {},
     "output_type": "execute_result"
    },
    {
     "data": {
      "image/png": "[encoded data removed]",
      "text/plain": [
       "<Figure size 1000x500 with 1 Axes>"
      ]
     },
     "metadata": {},
     "output_type": "display_data"
    }
   ],
   "source": [
    "train_log = np.log(train['Close'])\n",
    "test_log = np.log(test['Close'])\n",
    "\n",
    "mav = train_log.rolling(24).mean()\n",
    "plt.figure(figsize = (10,5))\n",
    "plt.plot(train_log)"
   ]
  },
  {
   "cell_type": "code",
   "execution_count": 26,
   "id": "726832e6",
   "metadata": {},
   "outputs": [
    {
     "data": {
      "image/png": "[encoded data removed]",
      "text/plain": [
       "<Figure size 1000x500 with 1 Axes>"
      ]
     },
     "metadata": {},
     "output_type": "display_data"
    },
    {
     "name": "stdout",
     "output_type": "stream",
     "text": [
      "Results of dickey fuller test\n",
      "ADF Test Statistic : -0.9582548703506824\n",
      "p-value : 0.7681838949793329\n",
      "#Lags Used : 0\n",
      "Number of Observations Used : 233\n",
      "Weak evidence against null hypothesis, time series is non-stationary \n"
     ]
    }
   ],
   "source": [
    "train_log.dropna(inplace = True)\n",
    "test_log.dropna(inplace = True)\n",
    "\n",
    "test_stationarity(train_log)"
   ]
  },
  {
   "cell_type": "code",
   "execution_count": 27,
   "id": "16322aaf",
   "metadata": {},
   "outputs": [
    {
     "data": {
      "image/png": "[encoded data removed]",
      "text/plain": [
       "<Figure size 1000x500 with 1 Axes>"
      ]
     },
     "metadata": {},
     "output_type": "display_data"
    },
    {
     "name": "stdout",
     "output_type": "stream",
     "text": [
      "Results of dickey fuller test\n",
      "ADF Test Statistic : -2.578366101232163\n",
      "p-value : 0.09755149518235179\n",
      "#Lags Used : 1\n",
      "Number of Observations Used : 209\n",
      "Weak evidence against null hypothesis, time series is non-stationary \n"
     ]
    }
   ],
   "source": [
    "train_log_diff = train_log - mav\n",
    "train_log_diff.dropna(inplace = True)\n",
    "\n",
    "test_stationarity(train_log_diff)"
   ]
  },
  {
   "cell_type": "code",
   "execution_count": 28,
   "id": "52e6534d",
   "metadata": {},
   "outputs": [
    {
     "name": "stdout",
     "output_type": "stream",
     "text": [
      "Collecting pmdarima\n",
      "  Downloading pmdarima-2.0.3-cp39-cp39-win_amd64.whl (572 kB)\n",
      "     -------------------------------------- 572.7/572.7 kB 4.0 MB/s eta 0:00:00\n",
      "Requirement already satisfied: scikit-learn>=0.22 in c:\\users\\ritam\\anaconda3\\lib\\site-packages (from pmdarima) (1.0.2)\n",
      "Requirement already satisfied: urllib3 in c:\\users\\ritam\\anaconda3\\lib\\site-packages (from pmdarima) (1.26.11)\n",
      "Requirement already satisfied: pandas>=0.19 in c:\\users\\ritam\\anaconda3\\lib\\site-packages (from pmdarima) (1.4.4)\n",
      "Requirement already satisfied: statsmodels>=0.13.2 in c:\\users\\ritam\\anaconda3\\lib\\site-packages (from pmdarima) (0.13.2)\n",
      "Requirement already satisfied: setuptools!=50.0.0,>=38.6.0 in c:\\users\\ritam\\anaconda3\\lib\\site-packages (from pmdarima) (63.4.1)\n",
      "Requirement already satisfied: Cython!=0.29.18,!=0.29.31,>=0.29 in c:\\users\\ritam\\anaconda3\\lib\\site-packages (from pmdarima) (0.29.32)\n",
      "Requirement already satisfied: numpy>=1.21.2 in c:\\users\\ritam\\anaconda3\\lib\\site-packages (from pmdarima) (1.21.5)\n",
      "Requirement already satisfied: joblib>=0.11 in c:\\users\\ritam\\anaconda3\\lib\\site-packages (from pmdarima) (1.1.0)\n",
      "Requirement already satisfied: scipy>=1.3.2 in c:\\users\\ritam\\anaconda3\\lib\\site-packages (from pmdarima) (1.9.1)\n",
      "Requirement already satisfied: pytz>=2020.1 in c:\\users\\ritam\\anaconda3\\lib\\site-packages (from pandas>=0.19->pmdarima) (2022.1)\n",
      "Requirement already satisfied: python-dateutil>=2.8.1 in c:\\users\\ritam\\anaconda3\\lib\\site-packages (from pandas>=0.19->pmdarima) (2.8.2)\n",
      "Requirement already satisfied: threadpoolctl>=2.0.0 in c:\\users\\ritam\\anaconda3\\lib\\site-packages (from scikit-learn>=0.22->pmdarima) (2.2.0)\n",
      "Requirement already satisfied: patsy>=0.5.2 in c:\\users\\ritam\\anaconda3\\lib\\site-packages (from statsmodels>=0.13.2->pmdarima) (0.5.2)\n",
      "Requirement already satisfied: packaging>=21.3 in c:\\users\\ritam\\anaconda3\\lib\\site-packages (from statsmodels>=0.13.2->pmdarima) (21.3)\n",
      "Requirement already satisfied: pyparsing!=3.0.5,>=2.0.2 in c:\\users\\ritam\\anaconda3\\lib\\site-packages (from packaging>=21.3->statsmodels>=0.13.2->pmdarima) (3.0.9)\n",
      "Requirement already satisfied: six in c:\\users\\ritam\\anaconda3\\lib\\site-packages (from patsy>=0.5.2->statsmodels>=0.13.2->pmdarima) (1.16.0)\n",
      "Installing collected packages: pmdarima\n",
      "Successfully installed pmdarima-2.0.3\n",
      "Note: you may need to restart the kernel to use updated packages.\n"
     ]
    }
   ],
   "source": [
    "pip install pmdarima"
   ]
  },
  {
   "cell_type": "code",
   "execution_count": 31,
   "id": "b150a0b3",
   "metadata": {},
   "outputs": [],
   "source": [
    "#Using auto arima to make predictions using log data\n",
    "from pmdarima import auto_arima"
   ]
  },
  {
   "cell_type": "code",
   "execution_count": 34,
   "id": "6ace3fab",
   "metadata": {},
   "outputs": [
    {
     "name": "stdout",
     "output_type": "stream",
     "text": [
      "Performing stepwise search to minimize aic\n",
      " ARIMA(2,1,2)(0,0,0)[0] intercept   : AIC=-1655.485, Time=0.10 sec\n",
      " ARIMA(0,1,0)(0,0,0)[0] intercept   : AIC=-1663.969, Time=0.06 sec\n",
      " ARIMA(1,1,0)(0,0,0)[0] intercept   : AIC=-1662.556, Time=0.06 sec\n",
      " ARIMA(0,1,1)(0,0,0)[0] intercept   : AIC=-1662.480, Time=0.09 sec\n",
      " ARIMA(0,1,0)(0,0,0)[0]             : AIC=-1665.186, Time=0.05 sec\n",
      " ARIMA(1,1,1)(0,0,0)[0] intercept   : AIC=-1660.904, Time=0.21 sec\n",
      "\n",
      "Best model:  ARIMA(0,1,0)(0,0,0)[0]          \n",
      "Total fit time: 0.569 seconds\n"
     ]
    }
   ],
   "source": [
    "model = auto_arima(train_log, trace = True, error_action = 'ignore', suppress_warnings = True)\n",
    "model.fit(train_log)\n",
    "predictions = model.predict(periods = len(test))\n",
    "predictions = pd.DataFrame(predictions,index = test_log.index,columns=['Prediction'])"
   ]
  },
  {
   "cell_type": "markdown",
   "id": "bc28f9d0",
   "metadata": {},
   "source": [
    "plt.plot(train_log, label='Train')\n",
    "plt.plot(test_log, label='Test')\n",
    "plt.plot(predictions, label='Prediction')\n",
    "plt.title('NIFTY Stock Price Prediction')\n",
    "plt.xlabel('Time')\n",
    "plt.ylabel('Actual Stock Price')"
   ]
  },
  {
   "cell_type": "markdown",
   "id": "57405e81",
   "metadata": {},
   "source": [
    "# Error Calculation"
   ]
  },
  {
   "cell_type": "code",
   "execution_count": 36,
   "id": "47fa0f90",
   "metadata": {},
   "outputs": [],
   "source": [
    "test_log.fillna(test_log.mean(), inplace=True)\n",
    "predictions.fillna(predictions.mean(), inplace=True)\n",
    "\n",
    "test_log.dropna(inplace=True)\n",
    "predictions.dropna(inplace=True)"
   ]
  },
  {
   "cell_type": "code",
   "execution_count": 37,
   "id": "c9070978",
   "metadata": {},
   "outputs": [
    {
     "name": "stdout",
     "output_type": "stream",
     "text": [
      "RMSE :  0.027275343987382093\n"
     ]
    }
   ],
   "source": [
    "#Calculating error\n",
    "rms = np.sqrt(mean_squared_error(test_log,predictions))\n",
    "print(\"RMSE : \", rms)"
   ]
  },
  {
   "cell_type": "markdown",
   "id": "64bb1b71",
   "metadata": {},
   "source": [
    "# Textual Analysis "
   ]
  },
  {
   "cell_type": "code",
   "execution_count": 38,
   "id": "030ff169",
   "metadata": {},
   "outputs": [],
   "source": [
    "#Functions to get the subjectivity and polarity\n",
    "def getSubjectivity(text):\n",
    "  return TextBlob(text).sentiment.subjectivity\n",
    "\n",
    "def getPolarity(text):\n",
    "  return  TextBlob(text).sentiment.polarity"
   ]
  },
  {
   "cell_type": "code",
   "execution_count": 39,
   "id": "ac4e7268",
   "metadata": {},
   "outputs": [],
   "source": [
    "#Adding subjectivity and polarity columns\n",
    "ndf['Subjectivity'] = ndf['News'].apply(getSubjectivity)\n",
    "ndf['Polarity'] = ndf['News'].apply(getPolarity)"
   ]
  },
  {
   "cell_type": "code",
   "execution_count": 41,
   "id": "53612d42",
   "metadata": {},
   "outputs": [
    {
     "data": {
      "text/html": [
       "<div>\n",
       "<style scoped>\n",
       "    .dataframe tbody tr th:only-of-type {\n",
       "        vertical-align: middle;\n",
       "    }\n",
       "\n",
       "    .dataframe tbody tr th {\n",
       "        vertical-align: top;\n",
       "    }\n",
       "\n",
       "    .dataframe thead th {\n",
       "        text-align: right;\n",
       "    }\n",
       "</style>\n",
       "<table border=\"1\" class=\"dataframe\">\n",
       "  <thead>\n",
       "    <tr style=\"text-align: right;\">\n",
       "      <th></th>\n",
       "      <th>Date</th>\n",
       "      <th>News</th>\n",
       "      <th>Subjectivity</th>\n",
       "      <th>Polarity</th>\n",
       "    </tr>\n",
       "  </thead>\n",
       "  <tbody>\n",
       "    <tr>\n",
       "      <th>0</th>\n",
       "      <td>2001-01-02</td>\n",
       "      <td>Status quo will not be disturbed at Ayodhya  s...</td>\n",
       "      <td>0.286859</td>\n",
       "      <td>0.143590</td>\n",
       "    </tr>\n",
       "    <tr>\n",
       "      <th>1</th>\n",
       "      <td>2001-01-03</td>\n",
       "      <td>Powerless north India gropes in the dark Think...</td>\n",
       "      <td>0.392857</td>\n",
       "      <td>0.089286</td>\n",
       "    </tr>\n",
       "    <tr>\n",
       "      <th>2</th>\n",
       "      <td>2001-01-04</td>\n",
       "      <td>The string that pulled Stephen Hawking to Indi...</td>\n",
       "      <td>0.445360</td>\n",
       "      <td>0.093039</td>\n",
       "    </tr>\n",
       "    <tr>\n",
       "      <th>3</th>\n",
       "      <td>2001-01-05</td>\n",
       "      <td>Light combat craft takes India into club class...</td>\n",
       "      <td>0.480553</td>\n",
       "      <td>0.264024</td>\n",
       "    </tr>\n",
       "    <tr>\n",
       "      <th>4</th>\n",
       "      <td>2001-01-06</td>\n",
       "      <td>Light combat craft takes India into club class...</td>\n",
       "      <td>0.439394</td>\n",
       "      <td>0.248485</td>\n",
       "    </tr>\n",
       "    <tr>\n",
       "      <th>...</th>\n",
       "      <td>...</td>\n",
       "      <td>...</td>\n",
       "      <td>...</td>\n",
       "      <td>...</td>\n",
       "    </tr>\n",
       "    <tr>\n",
       "      <th>7712</th>\n",
       "      <td>2022-03-27</td>\n",
       "      <td>Playing a dead man in Body God meant sitting i...</td>\n",
       "      <td>0.365123</td>\n",
       "      <td>0.034162</td>\n",
       "    </tr>\n",
       "    <tr>\n",
       "      <th>7713</th>\n",
       "      <td>2022-03-28</td>\n",
       "      <td>As fashion becomes democratic  demand for styl...</td>\n",
       "      <td>0.383007</td>\n",
       "      <td>0.058513</td>\n",
       "    </tr>\n",
       "    <tr>\n",
       "      <th>7714</th>\n",
       "      <td>2022-03-29</td>\n",
       "      <td>Bobby Deol  Like my dad  I hope to be working ...</td>\n",
       "      <td>0.403627</td>\n",
       "      <td>0.092144</td>\n",
       "    </tr>\n",
       "    <tr>\n",
       "      <th>7715</th>\n",
       "      <td>2022-03-30</td>\n",
       "      <td>I will not give in to trends  Dossmode The tim...</td>\n",
       "      <td>0.344136</td>\n",
       "      <td>0.039954</td>\n",
       "    </tr>\n",
       "    <tr>\n",
       "      <th>7716</th>\n",
       "      <td>2022-03-31</td>\n",
       "      <td>Shashank goes back to coastal Karnataka and Mo...</td>\n",
       "      <td>0.335710</td>\n",
       "      <td>0.029023</td>\n",
       "    </tr>\n",
       "  </tbody>\n",
       "</table>\n",
       "<p>7717 rows × 4 columns</p>\n",
       "</div>"
      ],
      "text/plain": [
       "           Date                                               News  \\\n",
       "0    2001-01-02  Status quo will not be disturbed at Ayodhya  s...   \n",
       "1    2001-01-03  Powerless north India gropes in the dark Think...   \n",
       "2    2001-01-04  The string that pulled Stephen Hawking to Indi...   \n",
       "3    2001-01-05  Light combat craft takes India into club class...   \n",
       "4    2001-01-06  Light combat craft takes India into club class...   \n",
       "...         ...                                                ...   \n",
       "7712 2022-03-27  Playing a dead man in Body God meant sitting i...   \n",
       "7713 2022-03-28  As fashion becomes democratic  demand for styl...   \n",
       "7714 2022-03-29  Bobby Deol  Like my dad  I hope to be working ...   \n",
       "7715 2022-03-30  I will not give in to trends  Dossmode The tim...   \n",
       "7716 2022-03-31  Shashank goes back to coastal Karnataka and Mo...   \n",
       "\n",
       "      Subjectivity  Polarity  \n",
       "0         0.286859  0.143590  \n",
       "1         0.392857  0.089286  \n",
       "2         0.445360  0.093039  \n",
       "3         0.480553  0.264024  \n",
       "4         0.439394  0.248485  \n",
       "...            ...       ...  \n",
       "7712      0.365123  0.034162  \n",
       "7713      0.383007  0.058513  \n",
       "7714      0.403627  0.092144  \n",
       "7715      0.344136  0.039954  \n",
       "7716      0.335710  0.029023  \n",
       "\n",
       "[7717 rows x 4 columns]"
      ]
     },
     "execution_count": 41,
     "metadata": {},
     "output_type": "execute_result"
    }
   ],
   "source": [
    "ndf"
   ]
  },
  {
   "cell_type": "code",
   "execution_count": 42,
   "id": "5889f869",
   "metadata": {},
   "outputs": [
    {
     "name": "stderr",
     "output_type": "stream",
     "text": [
      "[nltk_data] Downloading package vader_lexicon to\n",
      "[nltk_data]     C:\\Users\\ritam\\AppData\\Roaming\\nltk_data...\n",
      "[nltk_data]   Package vader_lexicon is already up-to-date!\n"
     ]
    },
    {
     "data": {
      "text/plain": [
       "True"
      ]
     },
     "execution_count": 42,
     "metadata": {},
     "output_type": "execute_result"
    }
   ],
   "source": [
    "import nltk\n",
    "nltk.download('vader_lexicon')"
   ]
  },
  {
   "cell_type": "code",
   "execution_count": 44,
   "id": "78e4ce58",
   "metadata": {},
   "outputs": [],
   "source": [
    "from nltk.sentiment.vader import SentimentIntensityAnalyzer\n",
    "#Adding sentiment score to df_news\n",
    "sia = SentimentIntensityAnalyzer()"
   ]
  },
  {
   "cell_type": "code",
   "execution_count": 45,
   "id": "511594ca",
   "metadata": {},
   "outputs": [],
   "source": [
    "ndf['Compound'] = [sia.polarity_scores(v)['compound'] for v in ndf['News']]\n",
    "ndf['Negative'] = [sia.polarity_scores(v)['neg'] for v in ndf['News']]\n",
    "ndf['Neutral'] = [sia.polarity_scores(v)['neu'] for v in ndf['News']]\n",
    "ndf['Positive'] = [sia.polarity_scores(v)['pos'] for v in ndf['News']]"
   ]
  },
  {
   "cell_type": "code",
   "execution_count": 53,
   "id": "b9c52093",
   "metadata": {},
   "outputs": [
    {
     "data": {
      "text/html": [
       "<div>\n",
       "<style scoped>\n",
       "    .dataframe tbody tr th:only-of-type {\n",
       "        vertical-align: middle;\n",
       "    }\n",
       "\n",
       "    .dataframe tbody tr th {\n",
       "        vertical-align: top;\n",
       "    }\n",
       "\n",
       "    .dataframe thead th {\n",
       "        text-align: right;\n",
       "    }\n",
       "</style>\n",
       "<table border=\"1\" class=\"dataframe\">\n",
       "  <thead>\n",
       "    <tr style=\"text-align: right;\">\n",
       "      <th></th>\n",
       "      <th>Date</th>\n",
       "      <th>News</th>\n",
       "      <th>Subjectivity</th>\n",
       "      <th>Polarity</th>\n",
       "      <th>Compound</th>\n",
       "      <th>Negative</th>\n",
       "      <th>Neutral</th>\n",
       "      <th>Positive</th>\n",
       "    </tr>\n",
       "  </thead>\n",
       "  <tbody>\n",
       "    <tr>\n",
       "      <th>0</th>\n",
       "      <td>2001-01-02</td>\n",
       "      <td>Status quo will not be disturbed at Ayodhya  s...</td>\n",
       "      <td>0.286859</td>\n",
       "      <td>0.143590</td>\n",
       "      <td>-0.9792</td>\n",
       "      <td>0.121</td>\n",
       "      <td>0.809</td>\n",
       "      <td>0.071</td>\n",
       "    </tr>\n",
       "    <tr>\n",
       "      <th>1</th>\n",
       "      <td>2001-01-03</td>\n",
       "      <td>Powerless north India gropes in the dark Think...</td>\n",
       "      <td>0.392857</td>\n",
       "      <td>0.089286</td>\n",
       "      <td>-0.8910</td>\n",
       "      <td>0.156</td>\n",
       "      <td>0.735</td>\n",
       "      <td>0.109</td>\n",
       "    </tr>\n",
       "    <tr>\n",
       "      <th>2</th>\n",
       "      <td>2001-01-04</td>\n",
       "      <td>The string that pulled Stephen Hawking to Indi...</td>\n",
       "      <td>0.445360</td>\n",
       "      <td>0.093039</td>\n",
       "      <td>0.7543</td>\n",
       "      <td>0.104</td>\n",
       "      <td>0.792</td>\n",
       "      <td>0.104</td>\n",
       "    </tr>\n",
       "    <tr>\n",
       "      <th>3</th>\n",
       "      <td>2001-01-05</td>\n",
       "      <td>Light combat craft takes India into club class...</td>\n",
       "      <td>0.480553</td>\n",
       "      <td>0.264024</td>\n",
       "      <td>0.9645</td>\n",
       "      <td>0.142</td>\n",
       "      <td>0.694</td>\n",
       "      <td>0.164</td>\n",
       "    </tr>\n",
       "    <tr>\n",
       "      <th>4</th>\n",
       "      <td>2001-01-06</td>\n",
       "      <td>Light combat craft takes India into club class...</td>\n",
       "      <td>0.439394</td>\n",
       "      <td>0.248485</td>\n",
       "      <td>-0.8316</td>\n",
       "      <td>0.214</td>\n",
       "      <td>0.655</td>\n",
       "      <td>0.131</td>\n",
       "    </tr>\n",
       "    <tr>\n",
       "      <th>...</th>\n",
       "      <td>...</td>\n",
       "      <td>...</td>\n",
       "      <td>...</td>\n",
       "      <td>...</td>\n",
       "      <td>...</td>\n",
       "      <td>...</td>\n",
       "      <td>...</td>\n",
       "      <td>...</td>\n",
       "    </tr>\n",
       "    <tr>\n",
       "      <th>7712</th>\n",
       "      <td>2022-03-27</td>\n",
       "      <td>Playing a dead man in Body God meant sitting i...</td>\n",
       "      <td>0.365123</td>\n",
       "      <td>0.034162</td>\n",
       "      <td>-0.9999</td>\n",
       "      <td>0.158</td>\n",
       "      <td>0.758</td>\n",
       "      <td>0.084</td>\n",
       "    </tr>\n",
       "    <tr>\n",
       "      <th>7713</th>\n",
       "      <td>2022-03-28</td>\n",
       "      <td>As fashion becomes democratic  demand for styl...</td>\n",
       "      <td>0.383007</td>\n",
       "      <td>0.058513</td>\n",
       "      <td>-0.9999</td>\n",
       "      <td>0.160</td>\n",
       "      <td>0.737</td>\n",
       "      <td>0.103</td>\n",
       "    </tr>\n",
       "    <tr>\n",
       "      <th>7714</th>\n",
       "      <td>2022-03-29</td>\n",
       "      <td>Bobby Deol  Like my dad  I hope to be working ...</td>\n",
       "      <td>0.403627</td>\n",
       "      <td>0.092144</td>\n",
       "      <td>-0.9999</td>\n",
       "      <td>0.159</td>\n",
       "      <td>0.755</td>\n",
       "      <td>0.086</td>\n",
       "    </tr>\n",
       "    <tr>\n",
       "      <th>7715</th>\n",
       "      <td>2022-03-30</td>\n",
       "      <td>I will not give in to trends  Dossmode The tim...</td>\n",
       "      <td>0.344136</td>\n",
       "      <td>0.039954</td>\n",
       "      <td>-0.9999</td>\n",
       "      <td>0.156</td>\n",
       "      <td>0.769</td>\n",
       "      <td>0.076</td>\n",
       "    </tr>\n",
       "    <tr>\n",
       "      <th>7716</th>\n",
       "      <td>2022-03-31</td>\n",
       "      <td>Shashank goes back to coastal Karnataka and Mo...</td>\n",
       "      <td>0.335710</td>\n",
       "      <td>0.029023</td>\n",
       "      <td>-0.9999</td>\n",
       "      <td>0.154</td>\n",
       "      <td>0.774</td>\n",
       "      <td>0.071</td>\n",
       "    </tr>\n",
       "  </tbody>\n",
       "</table>\n",
       "<p>7717 rows × 8 columns</p>\n",
       "</div>"
      ],
      "text/plain": [
       "           Date                                               News  \\\n",
       "0    2001-01-02  Status quo will not be disturbed at Ayodhya  s...   \n",
       "1    2001-01-03  Powerless north India gropes in the dark Think...   \n",
       "2    2001-01-04  The string that pulled Stephen Hawking to Indi...   \n",
       "3    2001-01-05  Light combat craft takes India into club class...   \n",
       "4    2001-01-06  Light combat craft takes India into club class...   \n",
       "...         ...                                                ...   \n",
       "7712 2022-03-27  Playing a dead man in Body God meant sitting i...   \n",
       "7713 2022-03-28  As fashion becomes democratic  demand for styl...   \n",
       "7714 2022-03-29  Bobby Deol  Like my dad  I hope to be working ...   \n",
       "7715 2022-03-30  I will not give in to trends  Dossmode The tim...   \n",
       "7716 2022-03-31  Shashank goes back to coastal Karnataka and Mo...   \n",
       "\n",
       "      Subjectivity  Polarity  Compound  Negative  Neutral  Positive  \n",
       "0         0.286859  0.143590   -0.9792     0.121    0.809     0.071  \n",
       "1         0.392857  0.089286   -0.8910     0.156    0.735     0.109  \n",
       "2         0.445360  0.093039    0.7543     0.104    0.792     0.104  \n",
       "3         0.480553  0.264024    0.9645     0.142    0.694     0.164  \n",
       "4         0.439394  0.248485   -0.8316     0.214    0.655     0.131  \n",
       "...            ...       ...       ...       ...      ...       ...  \n",
       "7712      0.365123  0.034162   -0.9999     0.158    0.758     0.084  \n",
       "7713      0.383007  0.058513   -0.9999     0.160    0.737     0.103  \n",
       "7714      0.403627  0.092144   -0.9999     0.159    0.755     0.086  \n",
       "7715      0.344136  0.039954   -0.9999     0.156    0.769     0.076  \n",
       "7716      0.335710  0.029023   -0.9999     0.154    0.774     0.071  \n",
       "\n",
       "[7717 rows x 8 columns]"
      ]
     },
     "execution_count": 53,
     "metadata": {},
     "output_type": "execute_result"
    }
   ],
   "source": [
    "ndf"
   ]
  },
  {
   "cell_type": "markdown",
   "id": "754602f0",
   "metadata": {},
   "source": [
    "# Merge the Historical and Textual Data"
   ]
  },
  {
   "cell_type": "code",
   "execution_count": 85,
   "id": "e530e3c6",
   "metadata": {},
   "outputs": [],
   "source": [
    "df_merge = pd.merge(hisdf, ndf, how='inner', on='Date')"
   ]
  },
  {
   "cell_type": "code",
   "execution_count": 93,
   "id": "e1f2dbeb",
   "metadata": {},
   "outputs": [
    {
     "data": {
      "text/html": [
       "<div>\n",
       "<style scoped>\n",
       "    .dataframe tbody tr th:only-of-type {\n",
       "        vertical-align: middle;\n",
       "    }\n",
       "\n",
       "    .dataframe tbody tr th {\n",
       "        vertical-align: top;\n",
       "    }\n",
       "\n",
       "    .dataframe thead th {\n",
       "        text-align: right;\n",
       "    }\n",
       "</style>\n",
       "<table border=\"1\" class=\"dataframe\">\n",
       "  <thead>\n",
       "    <tr style=\"text-align: right;\">\n",
       "      <th></th>\n",
       "      <th>Date</th>\n",
       "      <th>Open</th>\n",
       "      <th>High</th>\n",
       "      <th>Low</th>\n",
       "      <th>Close</th>\n",
       "      <th>Volume</th>\n",
       "      <th>News</th>\n",
       "      <th>Subjectivity</th>\n",
       "      <th>Polarity</th>\n",
       "      <th>Compound</th>\n",
       "      <th>Negative</th>\n",
       "      <th>Neutral</th>\n",
       "      <th>Positive</th>\n",
       "    </tr>\n",
       "  </thead>\n",
       "  <tbody>\n",
       "    <tr>\n",
       "      <th>0</th>\n",
       "      <td>2022-03-10</td>\n",
       "      <td>17102.09961</td>\n",
       "      <td>17114.65039</td>\n",
       "      <td>16855.55078</td>\n",
       "      <td>16887.34961</td>\n",
       "      <td>278400</td>\n",
       "      <td>Writers are the new heroes  Karan Vyas The dou...</td>\n",
       "      <td>0.400017</td>\n",
       "      <td>0.053332</td>\n",
       "      <td>-0.9999</td>\n",
       "      <td>0.138</td>\n",
       "      <td>0.777</td>\n",
       "      <td>0.085</td>\n",
       "    </tr>\n",
       "    <tr>\n",
       "      <th>1</th>\n",
       "      <td>2022-01-11</td>\n",
       "      <td>18130.69922</td>\n",
       "      <td>18175.80078</td>\n",
       "      <td>18060.15039</td>\n",
       "      <td>18145.40039</td>\n",
       "      <td>349900</td>\n",
       "      <td>Vaikuntha Ekadashi       Check date  time   si...</td>\n",
       "      <td>0.388525</td>\n",
       "      <td>0.071044</td>\n",
       "      <td>-0.9998</td>\n",
       "      <td>0.147</td>\n",
       "      <td>0.749</td>\n",
       "      <td>0.104</td>\n",
       "    </tr>\n",
       "    <tr>\n",
       "      <th>2</th>\n",
       "      <td>2022-02-11</td>\n",
       "      <td>18177.90039</td>\n",
       "      <td>18178.75000</td>\n",
       "      <td>18048.65039</td>\n",
       "      <td>18082.84961</td>\n",
       "      <td>270900</td>\n",
       "      <td>Chaithra Kotoor took cues from a real cop to p...</td>\n",
       "      <td>0.353223</td>\n",
       "      <td>0.043691</td>\n",
       "      <td>-0.9999</td>\n",
       "      <td>0.152</td>\n",
       "      <td>0.751</td>\n",
       "      <td>0.098</td>\n",
       "    </tr>\n",
       "    <tr>\n",
       "      <th>3</th>\n",
       "      <td>2022-03-11</td>\n",
       "      <td>17968.34961</td>\n",
       "      <td>18106.30078</td>\n",
       "      <td>17959.19922</td>\n",
       "      <td>18052.69922</td>\n",
       "      <td>213000</td>\n",
       "      <td>Powerism  A song tribute to Puneeth on his bir...</td>\n",
       "      <td>0.381354</td>\n",
       "      <td>0.071642</td>\n",
       "      <td>-0.9997</td>\n",
       "      <td>0.147</td>\n",
       "      <td>0.750</td>\n",
       "      <td>0.103</td>\n",
       "    </tr>\n",
       "    <tr>\n",
       "      <th>4</th>\n",
       "      <td>2022-01-12</td>\n",
       "      <td>18871.94922</td>\n",
       "      <td>18887.59961</td>\n",
       "      <td>18778.19922</td>\n",
       "      <td>18812.50000</td>\n",
       "      <td>325000</td>\n",
       "      <td>Makar Sankranti       Check date  rituals and ...</td>\n",
       "      <td>0.389878</td>\n",
       "      <td>0.041324</td>\n",
       "      <td>-0.9999</td>\n",
       "      <td>0.160</td>\n",
       "      <td>0.742</td>\n",
       "      <td>0.098</td>\n",
       "    </tr>\n",
       "    <tr>\n",
       "      <th>5</th>\n",
       "      <td>2022-02-12</td>\n",
       "      <td>18752.40039</td>\n",
       "      <td>18781.94922</td>\n",
       "      <td>18639.19922</td>\n",
       "      <td>18696.09961</td>\n",
       "      <td>254400</td>\n",
       "      <td>How Rishabh Shetty raced buffaloes through slu...</td>\n",
       "      <td>0.342285</td>\n",
       "      <td>0.043845</td>\n",
       "      <td>-0.9999</td>\n",
       "      <td>0.171</td>\n",
       "      <td>0.744</td>\n",
       "      <td>0.085</td>\n",
       "    </tr>\n",
       "  </tbody>\n",
       "</table>\n",
       "</div>"
      ],
      "text/plain": [
       "        Date         Open         High          Low        Close  Volume  \\\n",
       "0 2022-03-10  17102.09961  17114.65039  16855.55078  16887.34961  278400   \n",
       "1 2022-01-11  18130.69922  18175.80078  18060.15039  18145.40039  349900   \n",
       "2 2022-02-11  18177.90039  18178.75000  18048.65039  18082.84961  270900   \n",
       "3 2022-03-11  17968.34961  18106.30078  17959.19922  18052.69922  213000   \n",
       "4 2022-01-12  18871.94922  18887.59961  18778.19922  18812.50000  325000   \n",
       "5 2022-02-12  18752.40039  18781.94922  18639.19922  18696.09961  254400   \n",
       "\n",
       "                                                News  Subjectivity  Polarity  \\\n",
       "0  Writers are the new heroes  Karan Vyas The dou...      0.400017  0.053332   \n",
       "1  Vaikuntha Ekadashi       Check date  time   si...      0.388525  0.071044   \n",
       "2  Chaithra Kotoor took cues from a real cop to p...      0.353223  0.043691   \n",
       "3  Powerism  A song tribute to Puneeth on his bir...      0.381354  0.071642   \n",
       "4  Makar Sankranti       Check date  rituals and ...      0.389878  0.041324   \n",
       "5  How Rishabh Shetty raced buffaloes through slu...      0.342285  0.043845   \n",
       "\n",
       "   Compound  Negative  Neutral  Positive  \n",
       "0   -0.9999     0.138    0.777     0.085  \n",
       "1   -0.9998     0.147    0.749     0.104  \n",
       "2   -0.9999     0.152    0.751     0.098  \n",
       "3   -0.9997     0.147    0.750     0.103  \n",
       "4   -0.9999     0.160    0.742     0.098  \n",
       "5   -0.9999     0.171    0.744     0.085  "
      ]
     },
     "execution_count": 93,
     "metadata": {},
     "output_type": "execute_result"
    }
   ],
   "source": [
    "df_merge"
   ]
  },
  {
   "cell_type": "markdown",
   "id": "331021fc",
   "metadata": {},
   "source": [
    "# Create Dataset for Model Training"
   ]
  },
  {
   "cell_type": "code",
   "execution_count": 95,
   "id": "770a9dfc",
   "metadata": {},
   "outputs": [
    {
     "data": {
      "text/html": [
       "<div>\n",
       "<style scoped>\n",
       "    .dataframe tbody tr th:only-of-type {\n",
       "        vertical-align: middle;\n",
       "    }\n",
       "\n",
       "    .dataframe tbody tr th {\n",
       "        vertical-align: top;\n",
       "    }\n",
       "\n",
       "    .dataframe thead th {\n",
       "        text-align: right;\n",
       "    }\n",
       "</style>\n",
       "<table border=\"1\" class=\"dataframe\">\n",
       "  <thead>\n",
       "    <tr style=\"text-align: right;\">\n",
       "      <th></th>\n",
       "      <th>Close</th>\n",
       "      <th>Subjectivity</th>\n",
       "      <th>Polarity</th>\n",
       "      <th>Compound</th>\n",
       "      <th>Negative</th>\n",
       "      <th>Neutral</th>\n",
       "      <th>Positive</th>\n",
       "    </tr>\n",
       "  </thead>\n",
       "  <tbody>\n",
       "    <tr>\n",
       "      <th>0</th>\n",
       "      <td>16887.34961</td>\n",
       "      <td>0.400017</td>\n",
       "      <td>0.053332</td>\n",
       "      <td>-0.9999</td>\n",
       "      <td>0.138</td>\n",
       "      <td>0.777</td>\n",
       "      <td>0.085</td>\n",
       "    </tr>\n",
       "    <tr>\n",
       "      <th>1</th>\n",
       "      <td>18145.40039</td>\n",
       "      <td>0.388525</td>\n",
       "      <td>0.071044</td>\n",
       "      <td>-0.9998</td>\n",
       "      <td>0.147</td>\n",
       "      <td>0.749</td>\n",
       "      <td>0.104</td>\n",
       "    </tr>\n",
       "    <tr>\n",
       "      <th>2</th>\n",
       "      <td>18082.84961</td>\n",
       "      <td>0.353223</td>\n",
       "      <td>0.043691</td>\n",
       "      <td>-0.9999</td>\n",
       "      <td>0.152</td>\n",
       "      <td>0.751</td>\n",
       "      <td>0.098</td>\n",
       "    </tr>\n",
       "    <tr>\n",
       "      <th>3</th>\n",
       "      <td>18052.69922</td>\n",
       "      <td>0.381354</td>\n",
       "      <td>0.071642</td>\n",
       "      <td>-0.9997</td>\n",
       "      <td>0.147</td>\n",
       "      <td>0.750</td>\n",
       "      <td>0.103</td>\n",
       "    </tr>\n",
       "    <tr>\n",
       "      <th>4</th>\n",
       "      <td>18812.50000</td>\n",
       "      <td>0.389878</td>\n",
       "      <td>0.041324</td>\n",
       "      <td>-0.9999</td>\n",
       "      <td>0.160</td>\n",
       "      <td>0.742</td>\n",
       "      <td>0.098</td>\n",
       "    </tr>\n",
       "    <tr>\n",
       "      <th>5</th>\n",
       "      <td>18696.09961</td>\n",
       "      <td>0.342285</td>\n",
       "      <td>0.043845</td>\n",
       "      <td>-0.9999</td>\n",
       "      <td>0.171</td>\n",
       "      <td>0.744</td>\n",
       "      <td>0.085</td>\n",
       "    </tr>\n",
       "  </tbody>\n",
       "</table>\n",
       "</div>"
      ],
      "text/plain": [
       "         Close  Subjectivity  Polarity  Compound  Negative  Neutral  Positive\n",
       "0  16887.34961      0.400017  0.053332   -0.9999     0.138    0.777     0.085\n",
       "1  18145.40039      0.388525  0.071044   -0.9998     0.147    0.749     0.104\n",
       "2  18082.84961      0.353223  0.043691   -0.9999     0.152    0.751     0.098\n",
       "3  18052.69922      0.381354  0.071642   -0.9997     0.147    0.750     0.103\n",
       "4  18812.50000      0.389878  0.041324   -0.9999     0.160    0.742     0.098\n",
       "5  18696.09961      0.342285  0.043845   -0.9999     0.171    0.744     0.085"
      ]
     },
     "execution_count": 95,
     "metadata": {},
     "output_type": "execute_result"
    }
   ],
   "source": [
    "dfmerge1 = df_merge[['Close','Subjectivity', 'Polarity', 'Compound', 'Negative', 'Neutral', 'Positive']]\n",
    "dfmerge1"
   ]
  },
  {
   "cell_type": "markdown",
   "id": "6db99359",
   "metadata": {},
   "source": [
    "# Normalize Data"
   ]
  },
  {
   "cell_type": "code",
   "execution_count": 61,
   "id": "f70d84a2",
   "metadata": {},
   "outputs": [
    {
     "data": {
      "text/html": [
       "<div>\n",
       "<style scoped>\n",
       "    .dataframe tbody tr th:only-of-type {\n",
       "        vertical-align: middle;\n",
       "    }\n",
       "\n",
       "    .dataframe tbody tr th {\n",
       "        vertical-align: top;\n",
       "    }\n",
       "\n",
       "    .dataframe thead th {\n",
       "        text-align: right;\n",
       "    }\n",
       "</style>\n",
       "<table border=\"1\" class=\"dataframe\">\n",
       "  <thead>\n",
       "    <tr style=\"text-align: right;\">\n",
       "      <th></th>\n",
       "      <th>Close</th>\n",
       "      <th>Subjectivity</th>\n",
       "      <th>Polarity</th>\n",
       "      <th>Compound</th>\n",
       "      <th>Negative</th>\n",
       "      <th>Neutral</th>\n",
       "      <th>Positive</th>\n",
       "    </tr>\n",
       "  </thead>\n",
       "  <tbody>\n",
       "    <tr>\n",
       "      <th>0</th>\n",
       "      <td>0.000000</td>\n",
       "      <td>1.000000</td>\n",
       "      <td>0.396050</td>\n",
       "      <td>0.0</td>\n",
       "      <td>0.000000</td>\n",
       "      <td>1.000000</td>\n",
       "      <td>0.000000</td>\n",
       "    </tr>\n",
       "    <tr>\n",
       "      <th>1</th>\n",
       "      <td>0.653482</td>\n",
       "      <td>0.800942</td>\n",
       "      <td>0.980250</td>\n",
       "      <td>0.5</td>\n",
       "      <td>0.272727</td>\n",
       "      <td>0.200000</td>\n",
       "      <td>1.000000</td>\n",
       "    </tr>\n",
       "    <tr>\n",
       "      <th>2</th>\n",
       "      <td>0.620990</td>\n",
       "      <td>0.189469</td>\n",
       "      <td>0.078067</td>\n",
       "      <td>0.0</td>\n",
       "      <td>0.424242</td>\n",
       "      <td>0.257143</td>\n",
       "      <td>0.684211</td>\n",
       "    </tr>\n",
       "    <tr>\n",
       "      <th>3</th>\n",
       "      <td>0.605329</td>\n",
       "      <td>0.676740</td>\n",
       "      <td>1.000000</td>\n",
       "      <td>1.0</td>\n",
       "      <td>0.272727</td>\n",
       "      <td>0.228571</td>\n",
       "      <td>0.947368</td>\n",
       "    </tr>\n",
       "    <tr>\n",
       "      <th>4</th>\n",
       "      <td>1.000000</td>\n",
       "      <td>0.824372</td>\n",
       "      <td>0.000000</td>\n",
       "      <td>0.0</td>\n",
       "      <td>0.666667</td>\n",
       "      <td>0.000000</td>\n",
       "      <td>0.684211</td>\n",
       "    </tr>\n",
       "  </tbody>\n",
       "</table>\n",
       "</div>"
      ],
      "text/plain": [
       "      Close  Subjectivity  Polarity  Compound  Negative   Neutral  Positive\n",
       "0  0.000000      1.000000  0.396050       0.0  0.000000  1.000000  0.000000\n",
       "1  0.653482      0.800942  0.980250       0.5  0.272727  0.200000  1.000000\n",
       "2  0.620990      0.189469  0.078067       0.0  0.424242  0.257143  0.684211\n",
       "3  0.605329      0.676740  1.000000       1.0  0.272727  0.228571  0.947368\n",
       "4  1.000000      0.824372  0.000000       0.0  0.666667  0.000000  0.684211"
      ]
     },
     "execution_count": 61,
     "metadata": {},
     "output_type": "execute_result"
    }
   ],
   "source": [
    "scaler = MinMaxScaler()\n",
    "\n",
    "df = pd.DataFrame(scaler.fit_transform(dfmerge1))\n",
    "df.columns = dfmerge1.columns\n",
    "df.index = dfmerge1.index\n",
    "df.head()"
   ]
  },
  {
   "cell_type": "code",
   "execution_count": 62,
   "id": "90c1fd92",
   "metadata": {},
   "outputs": [
    {
     "data": {
      "text/html": [
       "<div>\n",
       "<style scoped>\n",
       "    .dataframe tbody tr th:only-of-type {\n",
       "        vertical-align: middle;\n",
       "    }\n",
       "\n",
       "    .dataframe tbody tr th {\n",
       "        vertical-align: top;\n",
       "    }\n",
       "\n",
       "    .dataframe thead th {\n",
       "        text-align: right;\n",
       "    }\n",
       "</style>\n",
       "<table border=\"1\" class=\"dataframe\">\n",
       "  <thead>\n",
       "    <tr style=\"text-align: right;\">\n",
       "      <th></th>\n",
       "      <th>Subjectivity</th>\n",
       "      <th>Polarity</th>\n",
       "      <th>Compound</th>\n",
       "      <th>Negative</th>\n",
       "      <th>Neutral</th>\n",
       "      <th>Positive</th>\n",
       "    </tr>\n",
       "  </thead>\n",
       "  <tbody>\n",
       "    <tr>\n",
       "      <th>0</th>\n",
       "      <td>1.000000</td>\n",
       "      <td>0.396050</td>\n",
       "      <td>0.0</td>\n",
       "      <td>0.000000</td>\n",
       "      <td>1.000000</td>\n",
       "      <td>0.000000</td>\n",
       "    </tr>\n",
       "    <tr>\n",
       "      <th>1</th>\n",
       "      <td>0.800942</td>\n",
       "      <td>0.980250</td>\n",
       "      <td>0.5</td>\n",
       "      <td>0.272727</td>\n",
       "      <td>0.200000</td>\n",
       "      <td>1.000000</td>\n",
       "    </tr>\n",
       "    <tr>\n",
       "      <th>2</th>\n",
       "      <td>0.189469</td>\n",
       "      <td>0.078067</td>\n",
       "      <td>0.0</td>\n",
       "      <td>0.424242</td>\n",
       "      <td>0.257143</td>\n",
       "      <td>0.684211</td>\n",
       "    </tr>\n",
       "    <tr>\n",
       "      <th>3</th>\n",
       "      <td>0.676740</td>\n",
       "      <td>1.000000</td>\n",
       "      <td>1.0</td>\n",
       "      <td>0.272727</td>\n",
       "      <td>0.228571</td>\n",
       "      <td>0.947368</td>\n",
       "    </tr>\n",
       "    <tr>\n",
       "      <th>4</th>\n",
       "      <td>0.824372</td>\n",
       "      <td>0.000000</td>\n",
       "      <td>0.0</td>\n",
       "      <td>0.666667</td>\n",
       "      <td>0.000000</td>\n",
       "      <td>0.684211</td>\n",
       "    </tr>\n",
       "    <tr>\n",
       "      <th>5</th>\n",
       "      <td>0.000000</td>\n",
       "      <td>0.083134</td>\n",
       "      <td>0.0</td>\n",
       "      <td>1.000000</td>\n",
       "      <td>0.057143</td>\n",
       "      <td>0.000000</td>\n",
       "    </tr>\n",
       "  </tbody>\n",
       "</table>\n",
       "</div>"
      ],
      "text/plain": [
       "   Subjectivity  Polarity  Compound  Negative   Neutral  Positive\n",
       "0      1.000000  0.396050       0.0  0.000000  1.000000  0.000000\n",
       "1      0.800942  0.980250       0.5  0.272727  0.200000  1.000000\n",
       "2      0.189469  0.078067       0.0  0.424242  0.257143  0.684211\n",
       "3      0.676740  1.000000       1.0  0.272727  0.228571  0.947368\n",
       "4      0.824372  0.000000       0.0  0.666667  0.000000  0.684211\n",
       "5      0.000000  0.083134       0.0  1.000000  0.057143  0.000000"
      ]
     },
     "execution_count": 62,
     "metadata": {},
     "output_type": "execute_result"
    }
   ],
   "source": [
    "X=df.drop('Close',axis=1)\n",
    "X"
   ]
  },
  {
   "cell_type": "code",
   "execution_count": 63,
   "id": "836d25ab",
   "metadata": {},
   "outputs": [
    {
     "data": {
      "text/plain": [
       "0    0.000000\n",
       "1    0.653482\n",
       "2    0.620990\n",
       "3    0.605329\n",
       "4    1.000000\n",
       "5    0.939537\n",
       "Name: Close, dtype: float64"
      ]
     },
     "execution_count": 63,
     "metadata": {},
     "output_type": "execute_result"
    }
   ],
   "source": [
    "Y=df['Close']\n",
    "Y"
   ]
  },
  {
   "cell_type": "markdown",
   "id": "07cd6a59",
   "metadata": {},
   "source": [
    "# Split the Dataset into Train & Test Data"
   ]
  },
  {
   "cell_type": "code",
   "execution_count": 82,
   "id": "609e4989",
   "metadata": {},
   "outputs": [
    {
     "data": {
      "text/plain": [
       "(5, 6)"
      ]
     },
     "execution_count": 82,
     "metadata": {},
     "output_type": "execute_result"
    }
   ],
   "source": [
    "x_train, x_test, y_train, y_test = train_test_split(X, Y, test_size=0.1, random_state = 0)\n",
    "x_train.shape"
   ]
  },
  {
   "cell_type": "code",
   "execution_count": 84,
   "id": "c753b538",
   "metadata": {},
   "outputs": [
    {
     "data": {
      "text/html": [
       "<div>\n",
       "<style scoped>\n",
       "    .dataframe tbody tr th:only-of-type {\n",
       "        vertical-align: middle;\n",
       "    }\n",
       "\n",
       "    .dataframe tbody tr th {\n",
       "        vertical-align: top;\n",
       "    }\n",
       "\n",
       "    .dataframe thead th {\n",
       "        text-align: right;\n",
       "    }\n",
       "</style>\n",
       "<table border=\"1\" class=\"dataframe\">\n",
       "  <thead>\n",
       "    <tr style=\"text-align: right;\">\n",
       "      <th></th>\n",
       "      <th>Subjectivity</th>\n",
       "      <th>Polarity</th>\n",
       "      <th>Compound</th>\n",
       "      <th>Negative</th>\n",
       "      <th>Neutral</th>\n",
       "      <th>Positive</th>\n",
       "    </tr>\n",
       "  </thead>\n",
       "  <tbody>\n",
       "    <tr>\n",
       "      <th>2</th>\n",
       "      <td>0.189469</td>\n",
       "      <td>0.078067</td>\n",
       "      <td>0.0</td>\n",
       "      <td>0.424242</td>\n",
       "      <td>0.257143</td>\n",
       "      <td>0.684211</td>\n",
       "    </tr>\n",
       "    <tr>\n",
       "      <th>1</th>\n",
       "      <td>0.800942</td>\n",
       "      <td>0.980250</td>\n",
       "      <td>0.5</td>\n",
       "      <td>0.272727</td>\n",
       "      <td>0.200000</td>\n",
       "      <td>1.000000</td>\n",
       "    </tr>\n",
       "    <tr>\n",
       "      <th>3</th>\n",
       "      <td>0.676740</td>\n",
       "      <td>1.000000</td>\n",
       "      <td>1.0</td>\n",
       "      <td>0.272727</td>\n",
       "      <td>0.228571</td>\n",
       "      <td>0.947368</td>\n",
       "    </tr>\n",
       "    <tr>\n",
       "      <th>0</th>\n",
       "      <td>1.000000</td>\n",
       "      <td>0.396050</td>\n",
       "      <td>0.0</td>\n",
       "      <td>0.000000</td>\n",
       "      <td>1.000000</td>\n",
       "      <td>0.000000</td>\n",
       "    </tr>\n",
       "    <tr>\n",
       "      <th>4</th>\n",
       "      <td>0.824372</td>\n",
       "      <td>0.000000</td>\n",
       "      <td>0.0</td>\n",
       "      <td>0.666667</td>\n",
       "      <td>0.000000</td>\n",
       "      <td>0.684211</td>\n",
       "    </tr>\n",
       "  </tbody>\n",
       "</table>\n",
       "</div>"
      ],
      "text/plain": [
       "   Subjectivity  Polarity  Compound  Negative   Neutral  Positive\n",
       "2      0.189469  0.078067       0.0  0.424242  0.257143  0.684211\n",
       "1      0.800942  0.980250       0.5  0.272727  0.200000  1.000000\n",
       "3      0.676740  1.000000       1.0  0.272727  0.228571  0.947368\n",
       "0      1.000000  0.396050       0.0  0.000000  1.000000  0.000000\n",
       "4      0.824372  0.000000       0.0  0.666667  0.000000  0.684211"
      ]
     },
     "execution_count": 84,
     "metadata": {},
     "output_type": "execute_result"
    }
   ],
   "source": [
    "x_train[:10]"
   ]
  },
  {
   "cell_type": "markdown",
   "id": "6b419ccc",
   "metadata": {},
   "source": [
    "# RandomForestRegressor Model"
   ]
  },
  {
   "cell_type": "code",
   "execution_count": 96,
   "id": "b9a1b442",
   "metadata": {},
   "outputs": [],
   "source": [
    "rf = RandomForestRegressor()\n",
    "rf.fit(x_train, y_train)\n",
    "prediction=rf.predict(x_test)"
   ]
  },
  {
   "cell_type": "code",
   "execution_count": 97,
   "id": "d32a1b81",
   "metadata": {},
   "outputs": [
    {
     "name": "stdout",
     "output_type": "stream",
     "text": [
      "[0.61377527]\n",
      "5    0.939537\n",
      "Name: Close, dtype: float64\n",
      "Mean Squared error:  0.10612069516979769\n"
     ]
    }
   ],
   "source": [
    "print(prediction[:10])\n",
    "print(y_test[:10])\n",
    "print('Mean Squared error: ',mean_squared_error(prediction,y_test))"
   ]
  },
  {
   "cell_type": "markdown",
   "id": "18bd74e8",
   "metadata": {},
   "source": [
    "# DecisionTreeRegressor Model"
   ]
  },
  {
   "cell_type": "code",
   "execution_count": 99,
   "id": "f3484af3",
   "metadata": {},
   "outputs": [],
   "source": [
    "dtr = DecisionTreeRegressor()\n",
    "dtr.fit(x_train, y_train)\n",
    "predictions = dtr.predict(x_test)"
   ]
  },
  {
   "cell_type": "code",
   "execution_count": 100,
   "id": "feee5213",
   "metadata": {},
   "outputs": [
    {
     "name": "stdout",
     "output_type": "stream",
     "text": [
      "[1.]\n",
      "5    0.939537\n",
      "Name: Close, dtype: float64\n",
      "Mean Squared error:  0.003655775748983228\n"
     ]
    }
   ],
   "source": [
    "print(predictions[:10])\n",
    "print(y_test[:10])\n",
    "print('Mean Squared error: ',mean_squared_error(predictions,y_test))"
   ]
  },
  {
   "cell_type": "markdown",
   "id": "3aea0d68",
   "metadata": {},
   "source": [
    "# AdaBoostRegressor Model"
   ]
  },
  {
   "cell_type": "code",
   "execution_count": 101,
   "id": "ac7b7138",
   "metadata": {},
   "outputs": [
    {
     "data": {
      "text/plain": [
       "AdaBoostRegressor()"
      ]
     },
     "execution_count": 101,
     "metadata": {},
     "output_type": "execute_result"
    }
   ],
   "source": [
    "adb = AdaBoostRegressor()\n",
    "adb.fit(x_train, y_train)"
   ]
  },
  {
   "cell_type": "code",
   "execution_count": 102,
   "id": "06d88980",
   "metadata": {},
   "outputs": [
    {
     "name": "stdout",
     "output_type": "stream",
     "text": [
      "0.10147189956429506\n"
     ]
    }
   ],
   "source": [
    "predictions = adb.predict(x_test)\n",
    "print(mean_squared_error(predictions, y_test))"
   ]
  },
  {
   "cell_type": "markdown",
   "id": "6b4b5976",
   "metadata": {},
   "source": [
    "# LGBMRegressor Model"
   ]
  },
  {
   "cell_type": "code",
   "execution_count": 104,
   "id": "9607411a",
   "metadata": {},
   "outputs": [
    {
     "name": "stdout",
     "output_type": "stream",
     "text": [
      "[LightGBM] [Warning] There are no meaningful features which satisfy the provided configuration. Decreasing Dataset parameters min_data_in_bin or min_data_in_leaf and re-constructing Dataset might resolve this warning.\n",
      "[LightGBM] [Info] Total Bins 0\n",
      "[LightGBM] [Info] Number of data points in the train set: 5, number of used features: 0\n",
      "[LightGBM] [Info] Start training from score 0.575960\n",
      "[LightGBM] [Warning] Stopped training because there are no more leaves that meet the split requirements\n",
      "[LightGBM] [Warning] Stopped training because there are no more leaves that meet the split requirements\n",
      "[LightGBM] [Warning] Stopped training because there are no more leaves that meet the split requirements\n",
      "[LightGBM] [Warning] Stopped training because there are no more leaves that meet the split requirements\n",
      "[LightGBM] [Warning] Stopped training because there are no more leaves that meet the split requirements\n",
      "[LightGBM] [Warning] Stopped training because there are no more leaves that meet the split requirements\n",
      "[LightGBM] [Warning] Stopped training because there are no more leaves that meet the split requirements\n",
      "[LightGBM] [Warning] Stopped training because there are no more leaves that meet the split requirements\n",
      "[LightGBM] [Warning] Stopped training because there are no more leaves that meet the split requirements\n",
      "[LightGBM] [Warning] Stopped training because there are no more leaves that meet the split requirements\n",
      "[LightGBM] [Warning] Stopped training because there are no more leaves that meet the split requirements\n",
      "[LightGBM] [Warning] Stopped training because there are no more leaves that meet the split requirements\n",
      "[LightGBM] [Warning] Stopped training because there are no more leaves that meet the split requirements\n",
      "[LightGBM] [Warning] Stopped training because there are no more leaves that meet the split requirements\n",
      "[LightGBM] [Warning] Stopped training because there are no more leaves that meet the split requirements\n",
      "[LightGBM] [Warning] Stopped training because there are no more leaves that meet the split requirements\n",
      "[LightGBM] [Warning] Stopped training because there are no more leaves that meet the split requirements\n",
      "[LightGBM] [Warning] Stopped training because there are no more leaves that meet the split requirements\n",
      "[LightGBM] [Warning] Stopped training because there are no more leaves that meet the split requirements\n",
      "[LightGBM] [Warning] Stopped training because there are no more leaves that meet the split requirements\n",
      "[LightGBM] [Warning] Stopped training because there are no more leaves that meet the split requirements\n",
      "[LightGBM] [Warning] Stopped training because there are no more leaves that meet the split requirements\n",
      "[LightGBM] [Warning] Stopped training because there are no more leaves that meet the split requirements\n",
      "[LightGBM] [Warning] Stopped training because there are no more leaves that meet the split requirements\n",
      "[LightGBM] [Warning] Stopped training because there are no more leaves that meet the split requirements\n",
      "[LightGBM] [Warning] Stopped training because there are no more leaves that meet the split requirements\n",
      "[LightGBM] [Warning] Stopped training because there are no more leaves that meet the split requirements\n",
      "[LightGBM] [Warning] Stopped training because there are no more leaves that meet the split requirements\n",
      "[LightGBM] [Warning] Stopped training because there are no more leaves that meet the split requirements\n",
      "[LightGBM] [Warning] Stopped training because there are no more leaves that meet the split requirements\n",
      "[LightGBM] [Warning] Stopped training because there are no more leaves that meet the split requirements\n",
      "[LightGBM] [Warning] Stopped training because there are no more leaves that meet the split requirements\n",
      "[LightGBM] [Warning] Stopped training because there are no more leaves that meet the split requirements\n",
      "[LightGBM] [Warning] Stopped training because there are no more leaves that meet the split requirements\n",
      "[LightGBM] [Warning] Stopped training because there are no more leaves that meet the split requirements\n",
      "[LightGBM] [Warning] Stopped training because there are no more leaves that meet the split requirements\n",
      "[LightGBM] [Warning] Stopped training because there are no more leaves that meet the split requirements\n",
      "[LightGBM] [Warning] Stopped training because there are no more leaves that meet the split requirements\n",
      "[LightGBM] [Warning] Stopped training because there are no more leaves that meet the split requirements\n",
      "[LightGBM] [Warning] Stopped training because there are no more leaves that meet the split requirements\n",
      "[LightGBM] [Warning] Stopped training because there are no more leaves that meet the split requirements\n",
      "[LightGBM] [Warning] Stopped training because there are no more leaves that meet the split requirements\n",
      "[LightGBM] [Warning] Stopped training because there are no more leaves that meet the split requirements\n",
      "[LightGBM] [Warning] Stopped training because there are no more leaves that meet the split requirements\n",
      "[LightGBM] [Warning] Stopped training because there are no more leaves that meet the split requirements\n",
      "[LightGBM] [Warning] Stopped training because there are no more leaves that meet the split requirements\n",
      "[LightGBM] [Warning] Stopped training because there are no more leaves that meet the split requirements\n",
      "[LightGBM] [Warning] Stopped training because there are no more leaves that meet the split requirements\n",
      "[LightGBM] [Warning] Stopped training because there are no more leaves that meet the split requirements\n",
      "[LightGBM] [Warning] Stopped training because there are no more leaves that meet the split requirements\n",
      "[LightGBM] [Warning] Stopped training because there are no more leaves that meet the split requirements\n",
      "[LightGBM] [Warning] Stopped training because there are no more leaves that meet the split requirements\n",
      "[LightGBM] [Warning] Stopped training because there are no more leaves that meet the split requirements\n",
      "[LightGBM] [Warning] Stopped training because there are no more leaves that meet the split requirements\n",
      "[LightGBM] [Warning] Stopped training because there are no more leaves that meet the split requirements\n",
      "[LightGBM] [Warning] Stopped training because there are no more leaves that meet the split requirements\n",
      "[LightGBM] [Warning] Stopped training because there are no more leaves that meet the split requirements\n",
      "[LightGBM] [Warning] Stopped training because there are no more leaves that meet the split requirements\n",
      "[LightGBM] [Warning] Stopped training because there are no more leaves that meet the split requirements\n",
      "[LightGBM] [Warning] Stopped training because there are no more leaves that meet the split requirements\n",
      "[LightGBM] [Warning] Stopped training because there are no more leaves that meet the split requirements\n",
      "[LightGBM] [Warning] Stopped training because there are no more leaves that meet the split requirements\n",
      "[LightGBM] [Warning] Stopped training because there are no more leaves that meet the split requirements\n",
      "[LightGBM] [Warning] Stopped training because there are no more leaves that meet the split requirements\n",
      "[LightGBM] [Warning] Stopped training because there are no more leaves that meet the split requirements\n",
      "[LightGBM] [Warning] Stopped training because there are no more leaves that meet the split requirements\n",
      "[LightGBM] [Warning] Stopped training because there are no more leaves that meet the split requirements\n",
      "[LightGBM] [Warning] Stopped training because there are no more leaves that meet the split requirements\n",
      "[LightGBM] [Warning] Stopped training because there are no more leaves that meet the split requirements\n",
      "[LightGBM] [Warning] Stopped training because there are no more leaves that meet the split requirements\n",
      "[LightGBM] [Warning] Stopped training because there are no more leaves that meet the split requirements\n",
      "[LightGBM] [Warning] Stopped training because there are no more leaves that meet the split requirements\n",
      "[LightGBM] [Warning] Stopped training because there are no more leaves that meet the split requirements\n",
      "[LightGBM] [Warning] Stopped training because there are no more leaves that meet the split requirements\n",
      "[LightGBM] [Warning] Stopped training because there are no more leaves that meet the split requirements\n",
      "[LightGBM] [Warning] Stopped training because there are no more leaves that meet the split requirements\n",
      "[LightGBM] [Warning] Stopped training because there are no more leaves that meet the split requirements\n",
      "[LightGBM] [Warning] Stopped training because there are no more leaves that meet the split requirements\n",
      "[LightGBM] [Warning] Stopped training because there are no more leaves that meet the split requirements\n",
      "[LightGBM] [Warning] Stopped training because there are no more leaves that meet the split requirements\n",
      "[LightGBM] [Warning] Stopped training because there are no more leaves that meet the split requirements\n",
      "[LightGBM] [Warning] Stopped training because there are no more leaves that meet the split requirements\n",
      "[LightGBM] [Warning] Stopped training because there are no more leaves that meet the split requirements\n",
      "[LightGBM] [Warning] Stopped training because there are no more leaves that meet the split requirements\n",
      "[LightGBM] [Warning] Stopped training because there are no more leaves that meet the split requirements\n",
      "[LightGBM] [Warning] Stopped training because there are no more leaves that meet the split requirements\n",
      "[LightGBM] [Warning] Stopped training because there are no more leaves that meet the split requirements\n",
      "[LightGBM] [Warning] Stopped training because there are no more leaves that meet the split requirements\n",
      "[LightGBM] [Warning] Stopped training because there are no more leaves that meet the split requirements\n",
      "[LightGBM] [Warning] Stopped training because there are no more leaves that meet the split requirements\n",
      "[LightGBM] [Warning] Stopped training because there are no more leaves that meet the split requirements\n",
      "[LightGBM] [Warning] Stopped training because there are no more leaves that meet the split requirements\n",
      "[LightGBM] [Warning] Stopped training because there are no more leaves that meet the split requirements\n",
      "[LightGBM] [Warning] Stopped training because there are no more leaves that meet the split requirements\n",
      "[LightGBM] [Warning] Stopped training because there are no more leaves that meet the split requirements\n",
      "[LightGBM] [Warning] Stopped training because there are no more leaves that meet the split requirements\n",
      "[LightGBM] [Warning] Stopped training because there are no more leaves that meet the split requirements\n",
      "[LightGBM] [Warning] Stopped training because there are no more leaves that meet the split requirements\n",
      "[LightGBM] [Warning] Stopped training because there are no more leaves that meet the split requirements\n",
      "[LightGBM] [Warning] Stopped training because there are no more leaves that meet the split requirements\n"
     ]
    },
    {
     "data": {
      "text/plain": [
       "LGBMRegressor()"
      ]
     },
     "execution_count": 104,
     "metadata": {},
     "output_type": "execute_result"
    }
   ],
   "source": [
    "gbm = lightgbm.LGBMRegressor()\n",
    "gbm.fit(x_train, y_train)"
   ]
  },
  {
   "cell_type": "code",
   "execution_count": 105,
   "id": "c1d53225",
   "metadata": {},
   "outputs": [
    {
     "name": "stdout",
     "output_type": "stream",
     "text": [
      "0.1321880154421832\n"
     ]
    }
   ],
   "source": [
    "predictions = gbm.predict(x_test)\n",
    "print(mean_squared_error(predictions, y_test))"
   ]
  },
  {
   "cell_type": "markdown",
   "id": "c07bf870",
   "metadata": {},
   "source": [
    "# XGBRegressor Model"
   ]
  },
  {
   "cell_type": "code",
   "execution_count": 106,
   "id": "c324b486",
   "metadata": {},
   "outputs": [
    {
     "data": {
      "text/plain": [
       "XGBRegressor(base_score=None, booster=None, callbacks=None,\n",
       "             colsample_bylevel=None, colsample_bynode=None,\n",
       "             colsample_bytree=None, device=None, early_stopping_rounds=None,\n",
       "             enable_categorical=False, eval_metric=None, feature_types=None,\n",
       "             gamma=None, grow_policy=None, importance_type=None,\n",
       "             interaction_constraints=None, learning_rate=None, max_bin=None,\n",
       "             max_cat_threshold=None, max_cat_to_onehot=None,\n",
       "             max_delta_step=None, max_depth=None, max_leaves=None,\n",
       "             min_child_weight=None, missing=nan, monotone_constraints=None,\n",
       "             multi_strategy=None, n_estimators=None, n_jobs=None,\n",
       "             num_parallel_tree=None, random_state=None, ...)"
      ]
     },
     "execution_count": 106,
     "metadata": {},
     "output_type": "execute_result"
    }
   ],
   "source": [
    "xgb = xgboost.XGBRegressor()\n",
    "xgb.fit(x_train, y_train)"
   ]
  },
  {
   "cell_type": "code",
   "execution_count": 107,
   "id": "288e355b",
   "metadata": {},
   "outputs": [
    {
     "name": "stdout",
     "output_type": "stream",
     "text": [
      "0.1012891329379229\n"
     ]
    }
   ],
   "source": [
    "predictions = xgb.predict(x_test)\n",
    "print(mean_squared_error(predictions, y_test))"
   ]
  }
 ],
 "metadata": {
  "kernelspec": {
   "display_name": "Python 3 (ipykernel)",
   "language": "python",
   "name": "python3"
  },
  "language_info": {
   "codemirror_mode": {
    "name": "ipython",
    "version": 3
   },
   "file_extension": ".py",
   "mimetype": "text/x-python",
   "name": "python",
   "nbconvert_exporter": "python",
   "pygments_lexer": "ipython3",
   "version": "3.9.13"
  }
 },
 "nbformat": 4,
 "nbformat_minor": 5
}
